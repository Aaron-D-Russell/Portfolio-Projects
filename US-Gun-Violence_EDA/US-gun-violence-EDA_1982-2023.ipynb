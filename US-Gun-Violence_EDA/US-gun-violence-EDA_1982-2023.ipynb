{
 "cells": [
  {
   "cell_type": "markdown",
   "id": "e4961088",
   "metadata": {},
   "source": [
    "# United States Gun Violence\n",
    "\n",
    "Gun Violence in the United States is an issue that is as unfortunate as it is alarming. Shootings have become so commonplace in the US that some have referred to Gun Violence as an epidemic, in the same vein as diseases like Covid-19. And while it may not be a virus in the strictest sense, it has devastated more than a few communities in the US throughout this country's history, and continues to do so today.\n",
    "\n",
    "In this project, we will analyze a dataset on Gun Violence incidents that have occurred from 1982 all the way up to 2023, to develop a better understanding of how Gun Violence has affected this country in the past and how it continues to affect this country in the present."
   ]
  },
  {
   "cell_type": "markdown",
   "id": "0acdac17",
   "metadata": {},
   "source": [
    "## 1. Ask\n",
    "\n",
    "### 1-1. Business Task\n",
    "\n",
    "The goal of this project is to explore and analyze data on gun violence in the United States using the Python programming language, to find answers to the following questions;\n",
    "\n",
    "**1.** How has the rate of gun violence incidents behaved from 1982-2023?\n",
    "\n",
    "**2.** What’s the average amount of injured/fatalities/victims per incident?\n",
    "\n",
    "**3.** What are the most common race/gender identities of shooters?\n",
    "\n",
    "**4.** Which states had the most gun violence incidents?\n",
    "\n",
    "**5.** Are there any correlations you can find between different metrics in the dataset?"
   ]
  },
  {
   "cell_type": "markdown",
   "id": "a46d9a3e",
   "metadata": {},
   "source": [
    "## 2. Prepare\n",
    "\n",
    "### 2-1. The Data in play\n",
    "\n",
    "The dataset I am using for this Analysis is the ['Gun Violence, USA']('https://www.kaggle.com/datasets/nidzsharma/us-mass-shootings-19822023') dataset made available on Kaggle by user Nidhi Sharma under a ['CC0: Public Domain']('https://creativecommons.org/publicdomain/zero/1.0/') license. It contains 141 rows of data on gun violence shootings committed from 1982-2023, spread out across 21 columns containing information on the type of gun violence incident that occurred, how many victims there were in the incident, details on the identity of the shooter who caused the incident, and more.\n",
    "\n",
    "It should be said that I have already familiarized myself with the dataset prior to undertaking this analysis, and have performed some basic pre-processing tasks on the dataset in Excel to make it easier to explore, process, and analyze in Python. Details on the performed pre-processing tasks can be found in the readme file accompanying this notebook."
   ]
  },
  {
   "cell_type": "code",
   "execution_count": 1,
   "id": "256b9289",
   "metadata": {},
   "outputs": [],
   "source": [
    "#Import libraries and dataset\n",
    "import numpy as np\n",
    "import pandas as pd\n",
    "import matplotlib.pyplot as plt\n",
    "import seaborn as sns\n",
    "sns.set_style('darkgrid')\n",
    "import plotly.graph_objs as go #import the graphical objects (plots) we'll need\n",
    "#more potentially useful plotly imports\n",
    "from plotly.offline import download_plotlyjs,init_notebook_mode,plot,iplot\n",
    "import plotly.express as px\n",
    "\n",
    "df = pd.read_excel('shooting-1982-2023_copy.xlsx')"
   ]
  },
  {
   "cell_type": "code",
   "execution_count": 2,
   "id": "6242b589",
   "metadata": {},
   "outputs": [
    {
     "name": "stdout",
     "output_type": "stream",
     "text": [
      "Number of Rows: 141\n",
      "Number of Columns: 22\n",
      "<class 'pandas.core.frame.DataFrame'>\n",
      "RangeIndex: 141 entries, 0 to 140\n",
      "Data columns (total 22 columns):\n",
      " #   Column                            Non-Null Count  Dtype \n",
      "---  ------                            --------------  ----- \n",
      " 0   case                              141 non-null    object\n",
      " 1   location_trimmed                  141 non-null    object\n",
      " 2   state_trimmed                     141 non-null    object\n",
      " 3   type                              141 non-null    object\n",
      " 4   location_type                     141 non-null    object\n",
      " 5   race                              141 non-null    object\n",
      " 6   gender                            141 non-null    object\n",
      " 7   date                              141 non-null    object\n",
      " 8   year                              141 non-null    int64 \n",
      " 9   fatalities                        141 non-null    int64 \n",
      " 10  injured                           141 non-null    int64 \n",
      " 11  total_victims                     141 non-null    int64 \n",
      " 12  age_of_shooter                    141 non-null    object\n",
      " 13  summary                           141 non-null    object\n",
      " 14  prior_signs_mental_health_issues  141 non-null    object\n",
      " 15  mental_health_details             141 non-null    object\n",
      " 16  weapons_obtained_legally          141 non-null    object\n",
      " 17  where_obtained                    141 non-null    object\n",
      " 18  weapon_type                       141 non-null    object\n",
      " 19  weapon_details                    140 non-null    object\n",
      " 20  latitude                          141 non-null    object\n",
      " 21  longitude                         141 non-null    object\n",
      "dtypes: int64(4), object(18)\n",
      "memory usage: 24.4+ KB\n"
     ]
    }
   ],
   "source": [
    "#Checking the structure of the dataset.\n",
    "print(f\"Number of Rows: {df.shape[0]}\")\n",
    "print(f\"Number of Columns: {df.shape[1]}\")\n",
    "df.info()"
   ]
  },
  {
   "cell_type": "code",
   "execution_count": 3,
   "id": "43b93c0a",
   "metadata": {},
   "outputs": [
    {
     "data": {
      "text/html": [
       "<div>\n",
       "<style scoped>\n",
       "    .dataframe tbody tr th:only-of-type {\n",
       "        vertical-align: middle;\n",
       "    }\n",
       "\n",
       "    .dataframe tbody tr th {\n",
       "        vertical-align: top;\n",
       "    }\n",
       "\n",
       "    .dataframe thead th {\n",
       "        text-align: right;\n",
       "    }\n",
       "</style>\n",
       "<table border=\"1\" class=\"dataframe\">\n",
       "  <thead>\n",
       "    <tr style=\"text-align: right;\">\n",
       "      <th></th>\n",
       "      <th>case</th>\n",
       "      <th>location_trimmed</th>\n",
       "      <th>state_trimmed</th>\n",
       "      <th>type</th>\n",
       "      <th>location_type</th>\n",
       "      <th>race</th>\n",
       "      <th>gender</th>\n",
       "      <th>date</th>\n",
       "      <th>year</th>\n",
       "      <th>fatalities</th>\n",
       "      <th>...</th>\n",
       "      <th>age_of_shooter</th>\n",
       "      <th>summary</th>\n",
       "      <th>prior_signs_mental_health_issues</th>\n",
       "      <th>mental_health_details</th>\n",
       "      <th>weapons_obtained_legally</th>\n",
       "      <th>where_obtained</th>\n",
       "      <th>weapon_type</th>\n",
       "      <th>weapon_details</th>\n",
       "      <th>latitude</th>\n",
       "      <th>longitude</th>\n",
       "    </tr>\n",
       "  </thead>\n",
       "  <tbody>\n",
       "    <tr>\n",
       "      <th>0</th>\n",
       "      <td>Nashville religious school shooting</td>\n",
       "      <td>Nashville</td>\n",
       "      <td>Tennessee</td>\n",
       "      <td>Mass</td>\n",
       "      <td>School</td>\n",
       "      <td>-</td>\n",
       "      <td>F (identified as transgender, per police)</td>\n",
       "      <td>2023-03-27 00:00:00</td>\n",
       "      <td>2023</td>\n",
       "      <td>6</td>\n",
       "      <td>...</td>\n",
       "      <td>28</td>\n",
       "      <td>Audrey Hale, 28, who was a former student at t...</td>\n",
       "      <td>-</td>\n",
       "      <td>-</td>\n",
       "      <td>-</td>\n",
       "      <td>-</td>\n",
       "      <td>semiautomatic rifle, semiautomatic handgun</td>\n",
       "      <td>-</td>\n",
       "      <td>-</td>\n",
       "      <td>-</td>\n",
       "    </tr>\n",
       "    <tr>\n",
       "      <th>1</th>\n",
       "      <td>Michigan State University shooting</td>\n",
       "      <td>East Lansing</td>\n",
       "      <td>Michigan</td>\n",
       "      <td>Mass</td>\n",
       "      <td>School</td>\n",
       "      <td>Black</td>\n",
       "      <td>M</td>\n",
       "      <td>2023-02-13 00:00:00</td>\n",
       "      <td>2023</td>\n",
       "      <td>3</td>\n",
       "      <td>...</td>\n",
       "      <td>43</td>\n",
       "      <td>Anthony D. McRae, 43, opened fire at Berkey Ha...</td>\n",
       "      <td>-</td>\n",
       "      <td>-</td>\n",
       "      <td>yes</td>\n",
       "      <td>-</td>\n",
       "      <td>semiautomatic handguns</td>\n",
       "      <td>-</td>\n",
       "      <td>-</td>\n",
       "      <td>-</td>\n",
       "    </tr>\n",
       "    <tr>\n",
       "      <th>2</th>\n",
       "      <td>Half Moon Bay spree shooting</td>\n",
       "      <td>Half Moon Bay</td>\n",
       "      <td>California</td>\n",
       "      <td>Spree</td>\n",
       "      <td>workplace</td>\n",
       "      <td>Asian</td>\n",
       "      <td>M</td>\n",
       "      <td>2023-01-23 00:00:00</td>\n",
       "      <td>2023</td>\n",
       "      <td>7</td>\n",
       "      <td>...</td>\n",
       "      <td>67</td>\n",
       "      <td>Chunli Zhao, 67, suspected of carrying out the...</td>\n",
       "      <td>-</td>\n",
       "      <td>-</td>\n",
       "      <td>-</td>\n",
       "      <td>-</td>\n",
       "      <td>semiautomatic handgun</td>\n",
       "      <td>-</td>\n",
       "      <td>-</td>\n",
       "      <td>-</td>\n",
       "    </tr>\n",
       "    <tr>\n",
       "      <th>3</th>\n",
       "      <td>LA dance studio mass shooting</td>\n",
       "      <td>Monterey Park</td>\n",
       "      <td>California</td>\n",
       "      <td>Mass</td>\n",
       "      <td>Other</td>\n",
       "      <td>Asian</td>\n",
       "      <td>M</td>\n",
       "      <td>2023-01-21 00:00:00</td>\n",
       "      <td>2023</td>\n",
       "      <td>11</td>\n",
       "      <td>...</td>\n",
       "      <td>72</td>\n",
       "      <td>Huu Can Tran, 72, fled the scene in a white va...</td>\n",
       "      <td>yes</td>\n",
       "      <td>According to the LA Times, \"Two law enforcemen...</td>\n",
       "      <td>-</td>\n",
       "      <td>-</td>\n",
       "      <td>semiautomatic assault weapon (Details pending)</td>\n",
       "      <td>-</td>\n",
       "      <td>-</td>\n",
       "      <td>-</td>\n",
       "    </tr>\n",
       "    <tr>\n",
       "      <th>4</th>\n",
       "      <td>Virginia Walmart shooting</td>\n",
       "      <td>Chesapeake</td>\n",
       "      <td>Virginia</td>\n",
       "      <td>Mass</td>\n",
       "      <td>Workplace</td>\n",
       "      <td>Black</td>\n",
       "      <td>M</td>\n",
       "      <td>2022-11-22 00:00:00</td>\n",
       "      <td>2022</td>\n",
       "      <td>6</td>\n",
       "      <td>...</td>\n",
       "      <td>31</td>\n",
       "      <td>Andre Bing, 31, who worked as a supervisor at ...</td>\n",
       "      <td>-</td>\n",
       "      <td>-</td>\n",
       "      <td>-</td>\n",
       "      <td>-</td>\n",
       "      <td>semiautomatic handgun</td>\n",
       "      <td>-</td>\n",
       "      <td>-</td>\n",
       "      <td>-</td>\n",
       "    </tr>\n",
       "  </tbody>\n",
       "</table>\n",
       "<p>5 rows × 22 columns</p>\n",
       "</div>"
      ],
      "text/plain": [
       "                                  case location_trimmed state_trimmed   type  \\\n",
       "0  Nashville religious school shooting        Nashville     Tennessee   Mass   \n",
       "1   Michigan State University shooting     East Lansing      Michigan   Mass   \n",
       "2         Half Moon Bay spree shooting    Half Moon Bay    California  Spree   \n",
       "3        LA dance studio mass shooting    Monterey Park    California   Mass   \n",
       "4            Virginia Walmart shooting       Chesapeake      Virginia   Mass   \n",
       "\n",
       "  location_type   race                                     gender  \\\n",
       "0        School      -  F (identified as transgender, per police)   \n",
       "1        School  Black                                          M   \n",
       "2     workplace  Asian                                          M   \n",
       "3         Other  Asian                                          M   \n",
       "4     Workplace  Black                                          M   \n",
       "\n",
       "                  date  year  fatalities  ...  age_of_shooter  \\\n",
       "0  2023-03-27 00:00:00  2023           6  ...              28   \n",
       "1  2023-02-13 00:00:00  2023           3  ...              43   \n",
       "2  2023-01-23 00:00:00  2023           7  ...              67   \n",
       "3  2023-01-21 00:00:00  2023          11  ...              72   \n",
       "4  2022-11-22 00:00:00  2022           6  ...              31   \n",
       "\n",
       "                                             summary  \\\n",
       "0  Audrey Hale, 28, who was a former student at t...   \n",
       "1  Anthony D. McRae, 43, opened fire at Berkey Ha...   \n",
       "2  Chunli Zhao, 67, suspected of carrying out the...   \n",
       "3  Huu Can Tran, 72, fled the scene in a white va...   \n",
       "4  Andre Bing, 31, who worked as a supervisor at ...   \n",
       "\n",
       "  prior_signs_mental_health_issues  \\\n",
       "0                                -   \n",
       "1                                -   \n",
       "2                                -   \n",
       "3                              yes   \n",
       "4                                -   \n",
       "\n",
       "                               mental_health_details weapons_obtained_legally  \\\n",
       "0                                                  -                        -   \n",
       "1                                                  -                      yes   \n",
       "2                                                  -                        -   \n",
       "3  According to the LA Times, \"Two law enforcemen...                        -   \n",
       "4                                                  -                        -   \n",
       "\n",
       "  where_obtained                                     weapon_type  \\\n",
       "0              -      semiautomatic rifle, semiautomatic handgun   \n",
       "1              -                          semiautomatic handguns   \n",
       "2              -                           semiautomatic handgun   \n",
       "3              -  semiautomatic assault weapon (Details pending)   \n",
       "4              -                           semiautomatic handgun   \n",
       "\n",
       "  weapon_details latitude longitude  \n",
       "0              -        -         -  \n",
       "1              -        -         -  \n",
       "2              -        -         -  \n",
       "3              -        -         -  \n",
       "4              -        -         -  \n",
       "\n",
       "[5 rows x 22 columns]"
      ]
     },
     "execution_count": 3,
     "metadata": {},
     "output_type": "execute_result"
    }
   ],
   "source": [
    "df.head()"
   ]
  },
  {
   "cell_type": "markdown",
   "id": "be0f4c45",
   "metadata": {},
   "source": [
    "## 3. Process\n",
    "\n",
    "Before our analysis can begin, the data has to be processed. This dataset is full of erroneous, dirty data that needs to be cleaned up before it can be used for analysis.\n",
    "\n",
    "### 3-1. Data Cleaning\n",
    "\n",
    "#### 3-1-1. Dealing with missing values\n",
    "This dataset is filled with '-' values where no data could be collected. As such, these are effectively null values; but they are not treated as nulls by Python.\n",
    "\n",
    "To make these values easier to deal with, we will convert them to their proper 'null' datatypes, and then visualize the distribution of null values to see which columns have the most missing data."
   ]
  },
  {
   "cell_type": "code",
   "execution_count": 4,
   "id": "1fe3df91",
   "metadata": {},
   "outputs": [
    {
     "data": {
      "text/html": [
       "<div>\n",
       "<style scoped>\n",
       "    .dataframe tbody tr th:only-of-type {\n",
       "        vertical-align: middle;\n",
       "    }\n",
       "\n",
       "    .dataframe tbody tr th {\n",
       "        vertical-align: top;\n",
       "    }\n",
       "\n",
       "    .dataframe thead th {\n",
       "        text-align: right;\n",
       "    }\n",
       "</style>\n",
       "<table border=\"1\" class=\"dataframe\">\n",
       "  <thead>\n",
       "    <tr style=\"text-align: right;\">\n",
       "      <th></th>\n",
       "      <th>case</th>\n",
       "      <th>location_trimmed</th>\n",
       "      <th>state_trimmed</th>\n",
       "      <th>type</th>\n",
       "      <th>location_type</th>\n",
       "      <th>race</th>\n",
       "      <th>gender</th>\n",
       "      <th>date</th>\n",
       "      <th>year</th>\n",
       "      <th>fatalities</th>\n",
       "      <th>...</th>\n",
       "      <th>age_of_shooter</th>\n",
       "      <th>summary</th>\n",
       "      <th>prior_signs_mental_health_issues</th>\n",
       "      <th>mental_health_details</th>\n",
       "      <th>weapons_obtained_legally</th>\n",
       "      <th>where_obtained</th>\n",
       "      <th>weapon_type</th>\n",
       "      <th>weapon_details</th>\n",
       "      <th>latitude</th>\n",
       "      <th>longitude</th>\n",
       "    </tr>\n",
       "  </thead>\n",
       "  <tbody>\n",
       "    <tr>\n",
       "      <th>0</th>\n",
       "      <td>Nashville religious school shooting</td>\n",
       "      <td>Nashville</td>\n",
       "      <td>Tennessee</td>\n",
       "      <td>Mass</td>\n",
       "      <td>School</td>\n",
       "      <td>NaN</td>\n",
       "      <td>F (identified as transgender, per police)</td>\n",
       "      <td>2023-03-27 00:00:00</td>\n",
       "      <td>2023</td>\n",
       "      <td>6</td>\n",
       "      <td>...</td>\n",
       "      <td>28.0</td>\n",
       "      <td>Audrey Hale, 28, who was a former student at t...</td>\n",
       "      <td>NaN</td>\n",
       "      <td>NaN</td>\n",
       "      <td>NaN</td>\n",
       "      <td>NaN</td>\n",
       "      <td>semiautomatic rifle, semiautomatic handgun</td>\n",
       "      <td>NaN</td>\n",
       "      <td>NaN</td>\n",
       "      <td>NaN</td>\n",
       "    </tr>\n",
       "    <tr>\n",
       "      <th>1</th>\n",
       "      <td>Michigan State University shooting</td>\n",
       "      <td>East Lansing</td>\n",
       "      <td>Michigan</td>\n",
       "      <td>Mass</td>\n",
       "      <td>School</td>\n",
       "      <td>Black</td>\n",
       "      <td>M</td>\n",
       "      <td>2023-02-13 00:00:00</td>\n",
       "      <td>2023</td>\n",
       "      <td>3</td>\n",
       "      <td>...</td>\n",
       "      <td>43.0</td>\n",
       "      <td>Anthony D. McRae, 43, opened fire at Berkey Ha...</td>\n",
       "      <td>NaN</td>\n",
       "      <td>NaN</td>\n",
       "      <td>yes</td>\n",
       "      <td>NaN</td>\n",
       "      <td>semiautomatic handguns</td>\n",
       "      <td>NaN</td>\n",
       "      <td>NaN</td>\n",
       "      <td>NaN</td>\n",
       "    </tr>\n",
       "    <tr>\n",
       "      <th>2</th>\n",
       "      <td>Half Moon Bay spree shooting</td>\n",
       "      <td>Half Moon Bay</td>\n",
       "      <td>California</td>\n",
       "      <td>Spree</td>\n",
       "      <td>workplace</td>\n",
       "      <td>Asian</td>\n",
       "      <td>M</td>\n",
       "      <td>2023-01-23 00:00:00</td>\n",
       "      <td>2023</td>\n",
       "      <td>7</td>\n",
       "      <td>...</td>\n",
       "      <td>67.0</td>\n",
       "      <td>Chunli Zhao, 67, suspected of carrying out the...</td>\n",
       "      <td>NaN</td>\n",
       "      <td>NaN</td>\n",
       "      <td>NaN</td>\n",
       "      <td>NaN</td>\n",
       "      <td>semiautomatic handgun</td>\n",
       "      <td>NaN</td>\n",
       "      <td>NaN</td>\n",
       "      <td>NaN</td>\n",
       "    </tr>\n",
       "    <tr>\n",
       "      <th>3</th>\n",
       "      <td>LA dance studio mass shooting</td>\n",
       "      <td>Monterey Park</td>\n",
       "      <td>California</td>\n",
       "      <td>Mass</td>\n",
       "      <td>Other</td>\n",
       "      <td>Asian</td>\n",
       "      <td>M</td>\n",
       "      <td>2023-01-21 00:00:00</td>\n",
       "      <td>2023</td>\n",
       "      <td>11</td>\n",
       "      <td>...</td>\n",
       "      <td>72.0</td>\n",
       "      <td>Huu Can Tran, 72, fled the scene in a white va...</td>\n",
       "      <td>yes</td>\n",
       "      <td>According to the LA Times, \"Two law enforcemen...</td>\n",
       "      <td>NaN</td>\n",
       "      <td>NaN</td>\n",
       "      <td>semiautomatic assault weapon (Details pending)</td>\n",
       "      <td>NaN</td>\n",
       "      <td>NaN</td>\n",
       "      <td>NaN</td>\n",
       "    </tr>\n",
       "    <tr>\n",
       "      <th>4</th>\n",
       "      <td>Virginia Walmart shooting</td>\n",
       "      <td>Chesapeake</td>\n",
       "      <td>Virginia</td>\n",
       "      <td>Mass</td>\n",
       "      <td>Workplace</td>\n",
       "      <td>Black</td>\n",
       "      <td>M</td>\n",
       "      <td>2022-11-22 00:00:00</td>\n",
       "      <td>2022</td>\n",
       "      <td>6</td>\n",
       "      <td>...</td>\n",
       "      <td>31.0</td>\n",
       "      <td>Andre Bing, 31, who worked as a supervisor at ...</td>\n",
       "      <td>NaN</td>\n",
       "      <td>NaN</td>\n",
       "      <td>NaN</td>\n",
       "      <td>NaN</td>\n",
       "      <td>semiautomatic handgun</td>\n",
       "      <td>NaN</td>\n",
       "      <td>NaN</td>\n",
       "      <td>NaN</td>\n",
       "    </tr>\n",
       "  </tbody>\n",
       "</table>\n",
       "<p>5 rows × 22 columns</p>\n",
       "</div>"
      ],
      "text/plain": [
       "                                  case location_trimmed state_trimmed   type  \\\n",
       "0  Nashville religious school shooting        Nashville     Tennessee   Mass   \n",
       "1   Michigan State University shooting     East Lansing      Michigan   Mass   \n",
       "2         Half Moon Bay spree shooting    Half Moon Bay    California  Spree   \n",
       "3        LA dance studio mass shooting    Monterey Park    California   Mass   \n",
       "4            Virginia Walmart shooting       Chesapeake      Virginia   Mass   \n",
       "\n",
       "  location_type   race                                     gender  \\\n",
       "0        School    NaN  F (identified as transgender, per police)   \n",
       "1        School  Black                                          M   \n",
       "2     workplace  Asian                                          M   \n",
       "3         Other  Asian                                          M   \n",
       "4     Workplace  Black                                          M   \n",
       "\n",
       "                  date  year  fatalities  ...  age_of_shooter  \\\n",
       "0  2023-03-27 00:00:00  2023           6  ...            28.0   \n",
       "1  2023-02-13 00:00:00  2023           3  ...            43.0   \n",
       "2  2023-01-23 00:00:00  2023           7  ...            67.0   \n",
       "3  2023-01-21 00:00:00  2023          11  ...            72.0   \n",
       "4  2022-11-22 00:00:00  2022           6  ...            31.0   \n",
       "\n",
       "                                             summary  \\\n",
       "0  Audrey Hale, 28, who was a former student at t...   \n",
       "1  Anthony D. McRae, 43, opened fire at Berkey Ha...   \n",
       "2  Chunli Zhao, 67, suspected of carrying out the...   \n",
       "3  Huu Can Tran, 72, fled the scene in a white va...   \n",
       "4  Andre Bing, 31, who worked as a supervisor at ...   \n",
       "\n",
       "   prior_signs_mental_health_issues  \\\n",
       "0                               NaN   \n",
       "1                               NaN   \n",
       "2                               NaN   \n",
       "3                               yes   \n",
       "4                               NaN   \n",
       "\n",
       "                               mental_health_details weapons_obtained_legally  \\\n",
       "0                                                NaN                      NaN   \n",
       "1                                                NaN                      yes   \n",
       "2                                                NaN                      NaN   \n",
       "3  According to the LA Times, \"Two law enforcemen...                      NaN   \n",
       "4                                                NaN                      NaN   \n",
       "\n",
       "  where_obtained                                     weapon_type  \\\n",
       "0            NaN      semiautomatic rifle, semiautomatic handgun   \n",
       "1            NaN                          semiautomatic handguns   \n",
       "2            NaN                           semiautomatic handgun   \n",
       "3            NaN  semiautomatic assault weapon (Details pending)   \n",
       "4            NaN                           semiautomatic handgun   \n",
       "\n",
       "  weapon_details latitude longitude  \n",
       "0            NaN      NaN       NaN  \n",
       "1            NaN      NaN       NaN  \n",
       "2            NaN      NaN       NaN  \n",
       "3            NaN      NaN       NaN  \n",
       "4            NaN      NaN       NaN  \n",
       "\n",
       "[5 rows x 22 columns]"
      ]
     },
     "execution_count": 4,
     "metadata": {},
     "output_type": "execute_result"
    }
   ],
   "source": [
    "#Converting '-' values to null values\n",
    "for col in df.columns:\n",
    "    df[col].replace({'-':np.nan},inplace=True)\n",
    "    \n",
    "df.head()"
   ]
  },
  {
   "cell_type": "code",
   "execution_count": 5,
   "id": "eb3b9d09",
   "metadata": {},
   "outputs": [
    {
     "data": {
      "text/plain": [
       "<AxesSubplot:>"
      ]
     },
     "execution_count": 5,
     "metadata": {},
     "output_type": "execute_result"
    },
    {
     "data": {
      "image/png": "[encoded data removed]",
      "text/plain": [
       "<Figure size 432x288 with 1 Axes>"
      ]
     },
     "metadata": {},
     "output_type": "display_data"
    }
   ],
   "source": [
    "#Visualizing null data\n",
    "sns.heatmap(df.isnull(),cbar=False)"
   ]
  },
  {
   "cell_type": "markdown",
   "id": "0dc00d9e",
   "metadata": {},
   "source": [
    "Let's start cleaning up these null values now, starting with the race column."
   ]
  },
  {
   "cell_type": "code",
   "execution_count": 6,
   "id": "76e04be0",
   "metadata": {},
   "outputs": [
    {
     "data": {
      "text/plain": [
       "13"
      ]
     },
     "execution_count": 6,
     "metadata": {},
     "output_type": "execute_result"
    }
   ],
   "source": [
    "#Checking the values of the race column\n",
    "df['race'].isnull().sum()"
   ]
  },
  {
   "cell_type": "code",
   "execution_count": 7,
   "id": "6d645ede",
   "metadata": {},
   "outputs": [
    {
     "data": {
      "text/plain": [
       "white              41\n",
       "White              31\n",
       "Black              16\n",
       "Latino             11\n",
       "Asian              10\n",
       "black               9\n",
       "Other               5\n",
       "Native American     3\n",
       "White               1\n",
       "unclear             1\n",
       "Name: race, dtype: int64"
      ]
     },
     "execution_count": 7,
     "metadata": {},
     "output_type": "execute_result"
    }
   ],
   "source": [
    "df['race'].value_counts()"
   ]
  },
  {
   "cell_type": "code",
   "execution_count": 8,
   "id": "cc0d0506",
   "metadata": {},
   "outputs": [],
   "source": [
    "#Filling all null values in race column with 'Unclear'\n",
    "df['race'].fillna('Unclear',inplace=True)"
   ]
  },
  {
   "cell_type": "code",
   "execution_count": 9,
   "id": "bac7b33b",
   "metadata": {},
   "outputs": [
    {
     "data": {
      "text/plain": [
       "white              41\n",
       "White              31\n",
       "Black              16\n",
       "Unclear            13\n",
       "Latino             11\n",
       "Asian              10\n",
       "black               9\n",
       "Other               5\n",
       "Native American     3\n",
       "White               1\n",
       "unclear             1\n",
       "Name: race, dtype: int64"
      ]
     },
     "execution_count": 9,
     "metadata": {},
     "output_type": "execute_result"
    }
   ],
   "source": [
    "df['race'].value_counts()"
   ]
  },
  {
   "cell_type": "markdown",
   "id": "08dc11fd",
   "metadata": {},
   "source": [
    "Onto the next column; age_of_shooter."
   ]
  },
  {
   "cell_type": "code",
   "execution_count": 10,
   "id": "f7932c94",
   "metadata": {},
   "outputs": [
    {
     "data": {
      "text/html": [
       "<div>\n",
       "<style scoped>\n",
       "    .dataframe tbody tr th:only-of-type {\n",
       "        vertical-align: middle;\n",
       "    }\n",
       "\n",
       "    .dataframe tbody tr th {\n",
       "        vertical-align: top;\n",
       "    }\n",
       "\n",
       "    .dataframe thead th {\n",
       "        text-align: right;\n",
       "    }\n",
       "</style>\n",
       "<table border=\"1\" class=\"dataframe\">\n",
       "  <thead>\n",
       "    <tr style=\"text-align: right;\">\n",
       "      <th></th>\n",
       "      <th>case</th>\n",
       "      <th>location_trimmed</th>\n",
       "      <th>state_trimmed</th>\n",
       "      <th>type</th>\n",
       "      <th>location_type</th>\n",
       "      <th>race</th>\n",
       "      <th>gender</th>\n",
       "      <th>date</th>\n",
       "      <th>year</th>\n",
       "      <th>fatalities</th>\n",
       "      <th>...</th>\n",
       "      <th>age_of_shooter</th>\n",
       "      <th>summary</th>\n",
       "      <th>prior_signs_mental_health_issues</th>\n",
       "      <th>mental_health_details</th>\n",
       "      <th>weapons_obtained_legally</th>\n",
       "      <th>where_obtained</th>\n",
       "      <th>weapon_type</th>\n",
       "      <th>weapon_details</th>\n",
       "      <th>latitude</th>\n",
       "      <th>longitude</th>\n",
       "    </tr>\n",
       "  </thead>\n",
       "  <tbody>\n",
       "    <tr>\n",
       "      <th>15</th>\n",
       "      <td>Sacramento County church shooting</td>\n",
       "      <td>Sacramento</td>\n",
       "      <td>California</td>\n",
       "      <td>Mass</td>\n",
       "      <td>Religious</td>\n",
       "      <td>Unclear</td>\n",
       "      <td>M</td>\n",
       "      <td>2022-02-28 00:00:00</td>\n",
       "      <td>2022</td>\n",
       "      <td>4</td>\n",
       "      <td>...</td>\n",
       "      <td>NaN</td>\n",
       "      <td>\"A man believed to be meeting his three childr...</td>\n",
       "      <td>NaN</td>\n",
       "      <td>NaN</td>\n",
       "      <td>NaN</td>\n",
       "      <td>NaN</td>\n",
       "      <td>semiautomatic rifle</td>\n",
       "      <td>AR-15-style \"ghost gun\"</td>\n",
       "      <td>38.601110</td>\n",
       "      <td>-121.418966</td>\n",
       "    </tr>\n",
       "    <tr>\n",
       "      <th>24</th>\n",
       "      <td>Jersey City kosher market shooting</td>\n",
       "      <td>Jersey City</td>\n",
       "      <td>New Jersey</td>\n",
       "      <td>Spree</td>\n",
       "      <td>Other</td>\n",
       "      <td>Black</td>\n",
       "      <td>Male &amp; Female</td>\n",
       "      <td>2019-12-10 00:00:00</td>\n",
       "      <td>2019</td>\n",
       "      <td>4</td>\n",
       "      <td>...</td>\n",
       "      <td>NaN</td>\n",
       "      <td>David N. Anderson, 47, and Francine Graham, 50...</td>\n",
       "      <td>NaN</td>\n",
       "      <td>NaN</td>\n",
       "      <td>NaN</td>\n",
       "      <td>NaN</td>\n",
       "      <td>semiautomatic rifle; shotgun; semiautomatic ha...</td>\n",
       "      <td>AR-15-style rifle; Mossberg 12-gauge shotgun; ...</td>\n",
       "      <td>40.707363</td>\n",
       "      <td>-74.083609</td>\n",
       "    </tr>\n",
       "  </tbody>\n",
       "</table>\n",
       "<p>2 rows × 22 columns</p>\n",
       "</div>"
      ],
      "text/plain": [
       "                                  case location_trimmed state_trimmed   type  \\\n",
       "15   Sacramento County church shooting       Sacramento    California   Mass   \n",
       "24  Jersey City kosher market shooting      Jersey City    New Jersey  Spree   \n",
       "\n",
       "   location_type     race         gender                 date  year  \\\n",
       "15     Religious  Unclear              M  2022-02-28 00:00:00  2022   \n",
       "24         Other    Black  Male & Female  2019-12-10 00:00:00  2019   \n",
       "\n",
       "    fatalities  ...  age_of_shooter  \\\n",
       "15           4  ...             NaN   \n",
       "24           4  ...             NaN   \n",
       "\n",
       "                                              summary  \\\n",
       "15  \"A man believed to be meeting his three childr...   \n",
       "24  David N. Anderson, 47, and Francine Graham, 50...   \n",
       "\n",
       "    prior_signs_mental_health_issues mental_health_details  \\\n",
       "15                               NaN                   NaN   \n",
       "24                               NaN                   NaN   \n",
       "\n",
       "   weapons_obtained_legally where_obtained  \\\n",
       "15                      NaN            NaN   \n",
       "24                      NaN            NaN   \n",
       "\n",
       "                                          weapon_type  \\\n",
       "15                                semiautomatic rifle   \n",
       "24  semiautomatic rifle; shotgun; semiautomatic ha...   \n",
       "\n",
       "                                       weapon_details   latitude   longitude  \n",
       "15                            AR-15-style \"ghost gun\"  38.601110 -121.418966  \n",
       "24  AR-15-style rifle; Mossberg 12-gauge shotgun; ...  40.707363  -74.083609  \n",
       "\n",
       "[2 rows x 22 columns]"
      ]
     },
     "execution_count": 10,
     "metadata": {},
     "output_type": "execute_result"
    }
   ],
   "source": [
    "df[df['age_of_shooter'].isnull()]"
   ]
  },
  {
   "cell_type": "markdown",
   "id": "209ad847",
   "metadata": {},
   "source": [
    "Since there are only two null values in this column, it's feasible for me to fill these null values by researching each case for information on the shooter's age.\n",
    "\n",
    "In the case of the Sacramento County church shooting, the shooter [(according to this article)](https://www.cnn.com/2022/02/28/us/sacramento-church-shooting/index.html) was identified as 39-year-old David Mora Rojas."
   ]
  },
  {
   "cell_type": "code",
   "execution_count": 11,
   "id": "becc1242",
   "metadata": {},
   "outputs": [],
   "source": [
    "df.loc[15, 'age_of_shooter'] = 39"
   ]
  },
  {
   "cell_type": "code",
   "execution_count": 12,
   "id": "3fd7dcd9",
   "metadata": {},
   "outputs": [
    {
     "data": {
      "text/plain": [
       "15    39.0\n",
       "Name: age_of_shooter, dtype: float64"
      ]
     },
     "execution_count": 12,
     "metadata": {},
     "output_type": "execute_result"
    }
   ],
   "source": [
    "df[df['case']=='Sacramento County church shooting']['age_of_shooter']"
   ]
  },
  {
   "cell_type": "markdown",
   "id": "ff561379",
   "metadata": {},
   "source": [
    "In the case of the Jersey City kosher market shooting, we already have the age of the shooters in the summary article included in the dataset. The only problem is there were multiple shooters involved, meaning there are multiple ages to consider; 47, and 50.\n",
    "\n",
    "As such, I will set the value for age_of_shooter here to be 48.5; a middle ground between the two ages."
   ]
  },
  {
   "cell_type": "code",
   "execution_count": 13,
   "id": "9ff0ff78",
   "metadata": {},
   "outputs": [],
   "source": [
    "df.loc[24, 'age_of_shooter'] = 48.5"
   ]
  },
  {
   "cell_type": "markdown",
   "id": "28d80951",
   "metadata": {},
   "source": [
    "Now let's move onto the next column on our list; prior_signs_mental_health issues"
   ]
  },
  {
   "cell_type": "code",
   "execution_count": 14,
   "id": "34e410bf",
   "metadata": {},
   "outputs": [
    {
     "data": {
      "text/plain": [
       "28"
      ]
     },
     "execution_count": 14,
     "metadata": {},
     "output_type": "execute_result"
    }
   ],
   "source": [
    "df['prior_signs_mental_health_issues'].isnull().sum()"
   ]
  },
  {
   "cell_type": "code",
   "execution_count": 15,
   "id": "9d3374fb",
   "metadata": {},
   "outputs": [
    {
     "data": {
      "text/plain": [
       "Yes         58\n",
       "Unclear     23\n",
       "No          17\n",
       "yes          8\n",
       "TBD          5\n",
       "Unknown      1\n",
       "Unclear      1\n",
       "Name: prior_signs_mental_health_issues, dtype: int64"
      ]
     },
     "execution_count": 15,
     "metadata": {},
     "output_type": "execute_result"
    }
   ],
   "source": [
    "df['prior_signs_mental_health_issues'].value_counts()"
   ]
  },
  {
   "cell_type": "code",
   "execution_count": 16,
   "id": "e04cd09a",
   "metadata": {},
   "outputs": [],
   "source": [
    "df['prior_signs_mental_health_issues'].fillna('Unknown',inplace=True)"
   ]
  },
  {
   "cell_type": "code",
   "execution_count": 17,
   "id": "5db1a341",
   "metadata": {},
   "outputs": [
    {
     "data": {
      "text/plain": [
       "Yes         58\n",
       "Unknown     29\n",
       "Unclear     23\n",
       "No          17\n",
       "yes          8\n",
       "TBD          5\n",
       "Unclear      1\n",
       "Name: prior_signs_mental_health_issues, dtype: int64"
      ]
     },
     "execution_count": 17,
     "metadata": {},
     "output_type": "execute_result"
    }
   ],
   "source": [
    "df['prior_signs_mental_health_issues'].value_counts()"
   ]
  },
  {
   "cell_type": "markdown",
   "id": "17e9a0b3",
   "metadata": {},
   "source": [
    "Onto the next column; weapons_obtained_legally"
   ]
  },
  {
   "cell_type": "code",
   "execution_count": 18,
   "id": "ccd88e3e",
   "metadata": {},
   "outputs": [
    {
     "data": {
      "text/plain": [
       "17"
      ]
     },
     "execution_count": 18,
     "metadata": {},
     "output_type": "execute_result"
    }
   ],
   "source": [
    "df['weapons_obtained_legally'].isnull().sum()"
   ]
  },
  {
   "cell_type": "code",
   "execution_count": 19,
   "id": "9e89b916",
   "metadata": {},
   "outputs": [
    {
     "data": {
      "text/plain": [
       "Yes                                                                                                                                    81\n",
       "No                                                                                                                                     16\n",
       "yes                                                                                                                                     9\n",
       "TBD                                                                                                                                     7\n",
       "Unknown                                                                                                                                 6\n",
       "\\nYes                                                                                                                                   2\n",
       "Kelley passed federal criminal background checks; the US Air Force failed to provide information on his criminal history to the FBI     1\n",
       "Yes (\"some of the weapons were purchased legally and some of them may not have been\")                                                   1\n",
       "Yes                                                                                                                                     1\n",
       "Name: weapons_obtained_legally, dtype: int64"
      ]
     },
     "execution_count": 19,
     "metadata": {},
     "output_type": "execute_result"
    }
   ],
   "source": [
    "df['weapons_obtained_legally'].value_counts()"
   ]
  },
  {
   "cell_type": "code",
   "execution_count": 20,
   "id": "fe67c536",
   "metadata": {},
   "outputs": [],
   "source": [
    "df['weapons_obtained_legally'].fillna('Unknown',inplace=True)"
   ]
  },
  {
   "cell_type": "code",
   "execution_count": 21,
   "id": "7a2ab116",
   "metadata": {},
   "outputs": [
    {
     "data": {
      "text/plain": [
       "Yes                                                                                                                                    81\n",
       "Unknown                                                                                                                                23\n",
       "No                                                                                                                                     16\n",
       "yes                                                                                                                                     9\n",
       "TBD                                                                                                                                     7\n",
       "\\nYes                                                                                                                                   2\n",
       "Kelley passed federal criminal background checks; the US Air Force failed to provide information on his criminal history to the FBI     1\n",
       "Yes (\"some of the weapons were purchased legally and some of them may not have been\")                                                   1\n",
       "Yes                                                                                                                                     1\n",
       "Name: weapons_obtained_legally, dtype: int64"
      ]
     },
     "execution_count": 21,
     "metadata": {},
     "output_type": "execute_result"
    }
   ],
   "source": [
    "df['weapons_obtained_legally'].value_counts()"
   ]
  },
  {
   "cell_type": "code",
   "execution_count": 22,
   "id": "98b06aff",
   "metadata": {},
   "outputs": [
    {
     "data": {
      "text/html": [
       "<div>\n",
       "<style scoped>\n",
       "    .dataframe tbody tr th:only-of-type {\n",
       "        vertical-align: middle;\n",
       "    }\n",
       "\n",
       "    .dataframe tbody tr th {\n",
       "        vertical-align: top;\n",
       "    }\n",
       "\n",
       "    .dataframe thead th {\n",
       "        text-align: right;\n",
       "    }\n",
       "</style>\n",
       "<table border=\"1\" class=\"dataframe\">\n",
       "  <thead>\n",
       "    <tr style=\"text-align: right;\">\n",
       "      <th></th>\n",
       "      <th>case</th>\n",
       "      <th>location_trimmed</th>\n",
       "      <th>state_trimmed</th>\n",
       "      <th>type</th>\n",
       "      <th>location_type</th>\n",
       "      <th>race</th>\n",
       "      <th>gender</th>\n",
       "      <th>date</th>\n",
       "      <th>year</th>\n",
       "      <th>fatalities</th>\n",
       "      <th>...</th>\n",
       "      <th>age_of_shooter</th>\n",
       "      <th>summary</th>\n",
       "      <th>prior_signs_mental_health_issues</th>\n",
       "      <th>mental_health_details</th>\n",
       "      <th>weapons_obtained_legally</th>\n",
       "      <th>where_obtained</th>\n",
       "      <th>weapon_type</th>\n",
       "      <th>weapon_details</th>\n",
       "      <th>latitude</th>\n",
       "      <th>longitude</th>\n",
       "    </tr>\n",
       "  </thead>\n",
       "  <tbody>\n",
       "    <tr>\n",
       "      <th>0</th>\n",
       "      <td>Nashville religious school shooting</td>\n",
       "      <td>Nashville</td>\n",
       "      <td>Tennessee</td>\n",
       "      <td>Mass</td>\n",
       "      <td>School</td>\n",
       "      <td>Unclear</td>\n",
       "      <td>F (identified as transgender, per police)</td>\n",
       "      <td>2023-03-27 00:00:00</td>\n",
       "      <td>2023</td>\n",
       "      <td>6</td>\n",
       "      <td>...</td>\n",
       "      <td>28.0</td>\n",
       "      <td>Audrey Hale, 28, who was a former student at t...</td>\n",
       "      <td>Unknown</td>\n",
       "      <td>NaN</td>\n",
       "      <td>Unknown</td>\n",
       "      <td>NaN</td>\n",
       "      <td>semiautomatic rifle, semiautomatic handgun</td>\n",
       "      <td>NaN</td>\n",
       "      <td>NaN</td>\n",
       "      <td>NaN</td>\n",
       "    </tr>\n",
       "    <tr>\n",
       "      <th>1</th>\n",
       "      <td>Michigan State University shooting</td>\n",
       "      <td>East Lansing</td>\n",
       "      <td>Michigan</td>\n",
       "      <td>Mass</td>\n",
       "      <td>School</td>\n",
       "      <td>Black</td>\n",
       "      <td>M</td>\n",
       "      <td>2023-02-13 00:00:00</td>\n",
       "      <td>2023</td>\n",
       "      <td>3</td>\n",
       "      <td>...</td>\n",
       "      <td>43.0</td>\n",
       "      <td>Anthony D. McRae, 43, opened fire at Berkey Ha...</td>\n",
       "      <td>Unknown</td>\n",
       "      <td>NaN</td>\n",
       "      <td>yes</td>\n",
       "      <td>NaN</td>\n",
       "      <td>semiautomatic handguns</td>\n",
       "      <td>NaN</td>\n",
       "      <td>NaN</td>\n",
       "      <td>NaN</td>\n",
       "    </tr>\n",
       "    <tr>\n",
       "      <th>2</th>\n",
       "      <td>Half Moon Bay spree shooting</td>\n",
       "      <td>Half Moon Bay</td>\n",
       "      <td>California</td>\n",
       "      <td>Spree</td>\n",
       "      <td>workplace</td>\n",
       "      <td>Asian</td>\n",
       "      <td>M</td>\n",
       "      <td>2023-01-23 00:00:00</td>\n",
       "      <td>2023</td>\n",
       "      <td>7</td>\n",
       "      <td>...</td>\n",
       "      <td>67.0</td>\n",
       "      <td>Chunli Zhao, 67, suspected of carrying out the...</td>\n",
       "      <td>Unknown</td>\n",
       "      <td>NaN</td>\n",
       "      <td>Unknown</td>\n",
       "      <td>NaN</td>\n",
       "      <td>semiautomatic handgun</td>\n",
       "      <td>NaN</td>\n",
       "      <td>NaN</td>\n",
       "      <td>NaN</td>\n",
       "    </tr>\n",
       "    <tr>\n",
       "      <th>3</th>\n",
       "      <td>LA dance studio mass shooting</td>\n",
       "      <td>Monterey Park</td>\n",
       "      <td>California</td>\n",
       "      <td>Mass</td>\n",
       "      <td>Other</td>\n",
       "      <td>Asian</td>\n",
       "      <td>M</td>\n",
       "      <td>2023-01-21 00:00:00</td>\n",
       "      <td>2023</td>\n",
       "      <td>11</td>\n",
       "      <td>...</td>\n",
       "      <td>72.0</td>\n",
       "      <td>Huu Can Tran, 72, fled the scene in a white va...</td>\n",
       "      <td>yes</td>\n",
       "      <td>According to the LA Times, \"Two law enforcemen...</td>\n",
       "      <td>Unknown</td>\n",
       "      <td>NaN</td>\n",
       "      <td>semiautomatic assault weapon (Details pending)</td>\n",
       "      <td>NaN</td>\n",
       "      <td>NaN</td>\n",
       "      <td>NaN</td>\n",
       "    </tr>\n",
       "    <tr>\n",
       "      <th>4</th>\n",
       "      <td>Virginia Walmart shooting</td>\n",
       "      <td>Chesapeake</td>\n",
       "      <td>Virginia</td>\n",
       "      <td>Mass</td>\n",
       "      <td>Workplace</td>\n",
       "      <td>Black</td>\n",
       "      <td>M</td>\n",
       "      <td>2022-11-22 00:00:00</td>\n",
       "      <td>2022</td>\n",
       "      <td>6</td>\n",
       "      <td>...</td>\n",
       "      <td>31.0</td>\n",
       "      <td>Andre Bing, 31, who worked as a supervisor at ...</td>\n",
       "      <td>Unknown</td>\n",
       "      <td>NaN</td>\n",
       "      <td>Unknown</td>\n",
       "      <td>NaN</td>\n",
       "      <td>semiautomatic handgun</td>\n",
       "      <td>NaN</td>\n",
       "      <td>NaN</td>\n",
       "      <td>NaN</td>\n",
       "    </tr>\n",
       "  </tbody>\n",
       "</table>\n",
       "<p>5 rows × 22 columns</p>\n",
       "</div>"
      ],
      "text/plain": [
       "                                  case location_trimmed state_trimmed   type  \\\n",
       "0  Nashville religious school shooting        Nashville     Tennessee   Mass   \n",
       "1   Michigan State University shooting     East Lansing      Michigan   Mass   \n",
       "2         Half Moon Bay spree shooting    Half Moon Bay    California  Spree   \n",
       "3        LA dance studio mass shooting    Monterey Park    California   Mass   \n",
       "4            Virginia Walmart shooting       Chesapeake      Virginia   Mass   \n",
       "\n",
       "  location_type     race                                     gender  \\\n",
       "0        School  Unclear  F (identified as transgender, per police)   \n",
       "1        School    Black                                          M   \n",
       "2     workplace    Asian                                          M   \n",
       "3         Other    Asian                                          M   \n",
       "4     Workplace    Black                                          M   \n",
       "\n",
       "                  date  year  fatalities  ...  age_of_shooter  \\\n",
       "0  2023-03-27 00:00:00  2023           6  ...            28.0   \n",
       "1  2023-02-13 00:00:00  2023           3  ...            43.0   \n",
       "2  2023-01-23 00:00:00  2023           7  ...            67.0   \n",
       "3  2023-01-21 00:00:00  2023          11  ...            72.0   \n",
       "4  2022-11-22 00:00:00  2022           6  ...            31.0   \n",
       "\n",
       "                                             summary  \\\n",
       "0  Audrey Hale, 28, who was a former student at t...   \n",
       "1  Anthony D. McRae, 43, opened fire at Berkey Ha...   \n",
       "2  Chunli Zhao, 67, suspected of carrying out the...   \n",
       "3  Huu Can Tran, 72, fled the scene in a white va...   \n",
       "4  Andre Bing, 31, who worked as a supervisor at ...   \n",
       "\n",
       "   prior_signs_mental_health_issues  \\\n",
       "0                           Unknown   \n",
       "1                           Unknown   \n",
       "2                           Unknown   \n",
       "3                               yes   \n",
       "4                           Unknown   \n",
       "\n",
       "                               mental_health_details weapons_obtained_legally  \\\n",
       "0                                                NaN                  Unknown   \n",
       "1                                                NaN                      yes   \n",
       "2                                                NaN                  Unknown   \n",
       "3  According to the LA Times, \"Two law enforcemen...                  Unknown   \n",
       "4                                                NaN                  Unknown   \n",
       "\n",
       "  where_obtained                                     weapon_type  \\\n",
       "0            NaN      semiautomatic rifle, semiautomatic handgun   \n",
       "1            NaN                          semiautomatic handguns   \n",
       "2            NaN                           semiautomatic handgun   \n",
       "3            NaN  semiautomatic assault weapon (Details pending)   \n",
       "4            NaN                           semiautomatic handgun   \n",
       "\n",
       "  weapon_details latitude longitude  \n",
       "0            NaN      NaN       NaN  \n",
       "1            NaN      NaN       NaN  \n",
       "2            NaN      NaN       NaN  \n",
       "3            NaN      NaN       NaN  \n",
       "4            NaN      NaN       NaN  \n",
       "\n",
       "[5 rows x 22 columns]"
      ]
     },
     "execution_count": 22,
     "metadata": {},
     "output_type": "execute_result"
    }
   ],
   "source": [
    "df.head()"
   ]
  },
  {
   "cell_type": "code",
   "execution_count": 23,
   "id": "355809e2",
   "metadata": {},
   "outputs": [
    {
     "data": {
      "text/plain": [
       "<AxesSubplot:>"
      ]
     },
     "execution_count": 23,
     "metadata": {},
     "output_type": "execute_result"
    },
    {
     "data": {
      "image/png": "[encoded data removed]",
      "text/plain": [
       "<Figure size 432x288 with 1 Axes>"
      ]
     },
     "metadata": {},
     "output_type": "display_data"
    }
   ],
   "source": [
    "sns.heatmap(df.isnull(),cbar=False)"
   ]
  },
  {
   "cell_type": "markdown",
   "id": "8d9cfec0",
   "metadata": {},
   "source": [
    "The remaining null columns in our dataset contain data that won't be strictly useful for our analysis. So instead of dealing with the missing values, we will just drop them from the dataset."
   ]
  },
  {
   "cell_type": "code",
   "execution_count": 24,
   "id": "ecc55e5b",
   "metadata": {},
   "outputs": [],
   "source": [
    "cols_to_drop = ['mental_health_details', 'where_obtained', 'weapon_type', 'weapon_details', 'latitude', 'longitude']"
   ]
  },
  {
   "cell_type": "code",
   "execution_count": 25,
   "id": "2a78c8ac",
   "metadata": {},
   "outputs": [],
   "source": [
    "df.drop(cols_to_drop,axis=1,inplace=True)"
   ]
  },
  {
   "cell_type": "code",
   "execution_count": 26,
   "id": "6ab43b62",
   "metadata": {},
   "outputs": [
    {
     "data": {
      "text/plain": [
       "<AxesSubplot:>"
      ]
     },
     "execution_count": 26,
     "metadata": {},
     "output_type": "execute_result"
    },
    {
     "data": {
      "image/png": "[encoded data removed]",
      "text/plain": [
       "<Figure size 432x288 with 1 Axes>"
      ]
     },
     "metadata": {},
     "output_type": "display_data"
    }
   ],
   "source": [
    "sns.heatmap(df.isnull(),cbar=False)"
   ]
  },
  {
   "cell_type": "markdown",
   "id": "94e28e1f",
   "metadata": {},
   "source": [
    "#### 3-1-2. Correcting inconsistencies in the data\n",
    "\n",
    "Null values weren't the only problem with our data; we also discovered plenty of inconsistencies in the data as well. Before we begin our analysis, we'll have to correct these inconsistencies.\n",
    "\n",
    "Let's start with the location_type column."
   ]
  },
  {
   "cell_type": "code",
   "execution_count": 27,
   "id": "943e5e97",
   "metadata": {},
   "outputs": [
    {
     "data": {
      "text/plain": [
       "Other          50\n",
       "Workplace      45\n",
       "School         22\n",
       "Religious       7\n",
       "Military        6\n",
       "workplace       5\n",
       "Other\\n         3\n",
       "religious       1\n",
       "Airport         1\n",
       "\\nWorkplace     1\n",
       "Name: location_type, dtype: int64"
      ]
     },
     "execution_count": 27,
     "metadata": {},
     "output_type": "execute_result"
    }
   ],
   "source": [
    "df['location_type'].value_counts()"
   ]
  },
  {
   "cell_type": "code",
   "execution_count": 28,
   "id": "4aafd742",
   "metadata": {},
   "outputs": [
    {
     "data": {
      "text/plain": [
       "Other        53\n",
       "Workplace    50\n",
       "School       22\n",
       "Religious     8\n",
       "Military      6\n",
       "Airport       1\n",
       "workplace     1\n",
       "Name: location_type, dtype: int64"
      ]
     },
     "execution_count": 28,
     "metadata": {},
     "output_type": "execute_result"
    }
   ],
   "source": [
    "#Creating a function to fix text inconsistencies\n",
    "def text_correction(text):\n",
    "    if text[0].islower():\n",
    "        return text.capitalize().strip()\n",
    "    else:\n",
    "        return text.capitalize().strip()\n",
    "\n",
    "df['location_type'] = df['location_type'].apply(text_correction)\n",
    "df['location_type'].value_counts()"
   ]
  },
  {
   "cell_type": "code",
   "execution_count": 29,
   "id": "0b71c9e9",
   "metadata": {},
   "outputs": [
    {
     "data": {
      "text/plain": [
       "Other        53\n",
       "Workplace    51\n",
       "School       22\n",
       "Religious     8\n",
       "Military      6\n",
       "Airport       1\n",
       "Name: location_type, dtype: int64"
      ]
     },
     "execution_count": 29,
     "metadata": {},
     "output_type": "execute_result"
    }
   ],
   "source": [
    "#Applying text_correction one more time to fix last remaining error\n",
    "df['location_type'] = df['location_type'].apply(text_correction)\n",
    "df['location_type'].value_counts()"
   ]
  },
  {
   "cell_type": "markdown",
   "id": "3c13fdbb",
   "metadata": {},
   "source": [
    "Now onto the next column; race."
   ]
  },
  {
   "cell_type": "code",
   "execution_count": 30,
   "id": "5be4f218",
   "metadata": {},
   "outputs": [
    {
     "data": {
      "text/plain": [
       "white              41\n",
       "White              31\n",
       "Black              16\n",
       "Unclear            13\n",
       "Latino             11\n",
       "Asian              10\n",
       "black               9\n",
       "Other               5\n",
       "Native American     3\n",
       "White               1\n",
       "unclear             1\n",
       "Name: race, dtype: int64"
      ]
     },
     "execution_count": 30,
     "metadata": {},
     "output_type": "execute_result"
    }
   ],
   "source": [
    "df['race'].value_counts()"
   ]
  },
  {
   "cell_type": "code",
   "execution_count": 31,
   "id": "f822b397",
   "metadata": {},
   "outputs": [
    {
     "data": {
      "text/plain": [
       "White              73\n",
       "Black              25\n",
       "Unclear            14\n",
       "Latino             11\n",
       "Asian              10\n",
       "Other               5\n",
       "Native american     3\n",
       "Name: race, dtype: int64"
      ]
     },
     "execution_count": 31,
     "metadata": {},
     "output_type": "execute_result"
    }
   ],
   "source": [
    "df['race'] = df['race'].apply(text_correction)\n",
    "df['race'].value_counts()"
   ]
  },
  {
   "cell_type": "markdown",
   "id": "6a62db91",
   "metadata": {},
   "source": [
    "Let's work on the gender column next."
   ]
  },
  {
   "cell_type": "code",
   "execution_count": 32,
   "id": "870d40e1",
   "metadata": {},
   "outputs": [
    {
     "data": {
      "text/plain": [
       "Male                                         70\n",
       "M                                            65\n",
       "Male & Female                                 2\n",
       "Female                                        2\n",
       "F (identified as transgender, per police)     1\n",
       "F                                             1\n",
       "Name: gender, dtype: int64"
      ]
     },
     "execution_count": 32,
     "metadata": {},
     "output_type": "execute_result"
    }
   ],
   "source": [
    "df['gender'].value_counts()"
   ]
  },
  {
   "cell_type": "code",
   "execution_count": 33,
   "id": "bd82efb0",
   "metadata": {},
   "outputs": [],
   "source": [
    "df['gender'] = df['gender'].apply(lambda text: 'Male' if text == 'M' else 'Female' if text[0]=='F' else text)"
   ]
  },
  {
   "cell_type": "code",
   "execution_count": 34,
   "id": "0e32beb5",
   "metadata": {},
   "outputs": [
    {
     "data": {
      "text/plain": [
       "Male             135\n",
       "Female             4\n",
       "Male & Female      2\n",
       "Name: gender, dtype: int64"
      ]
     },
     "execution_count": 34,
     "metadata": {},
     "output_type": "execute_result"
    }
   ],
   "source": [
    "df['gender'].value_counts()"
   ]
  },
  {
   "cell_type": "markdown",
   "id": "22112566",
   "metadata": {},
   "source": [
    "Cleaning up the prior_signs_mental_health_issues column next."
   ]
  },
  {
   "cell_type": "code",
   "execution_count": 35,
   "id": "3fd718e6",
   "metadata": {},
   "outputs": [
    {
     "data": {
      "text/plain": [
       "Yes         58\n",
       "Unknown     29\n",
       "Unclear     23\n",
       "No          17\n",
       "yes          8\n",
       "TBD          5\n",
       "Unclear      1\n",
       "Name: prior_signs_mental_health_issues, dtype: int64"
      ]
     },
     "execution_count": 35,
     "metadata": {},
     "output_type": "execute_result"
    }
   ],
   "source": [
    "df['prior_signs_mental_health_issues'].value_counts()"
   ]
  },
  {
   "cell_type": "code",
   "execution_count": 36,
   "id": "339908a1",
   "metadata": {},
   "outputs": [
    {
     "data": {
      "text/plain": [
       "Yes        66\n",
       "Unknown    58\n",
       "No         17\n",
       "Name: prior_signs_mental_health_issues, dtype: int64"
      ]
     },
     "execution_count": 36,
     "metadata": {},
     "output_type": "execute_result"
    }
   ],
   "source": [
    "#Set 'Unclear' to 'Unknown'\n",
    "df['prior_signs_mental_health_issues'] = df['prior_signs_mental_health_issues'].apply(text_correction)\n",
    "df['prior_signs_mental_health_issues'] = df['prior_signs_mental_health_issues'].apply(lambda text: 'Unknown' if text.lower() in ['unknown','unclear'] else 'Unknown' if text.lower() == 'tbd' else text)\n",
    "#Capitalize first letters and trim whitespace\n",
    "df['prior_signs_mental_health_issues'] = df['prior_signs_mental_health_issues'].apply(text_correction)\n",
    "#Show results\n",
    "df['prior_signs_mental_health_issues'].value_counts()"
   ]
  },
  {
   "cell_type": "markdown",
   "id": "b2e80f0a",
   "metadata": {},
   "source": [
    "Now onto the last column; weapons_obtained_legally."
   ]
  },
  {
   "cell_type": "code",
   "execution_count": 37,
   "id": "ad21014b",
   "metadata": {},
   "outputs": [
    {
     "data": {
      "text/plain": [
       "Yes                                                                                                                                    81\n",
       "Unknown                                                                                                                                23\n",
       "No                                                                                                                                     16\n",
       "yes                                                                                                                                     9\n",
       "TBD                                                                                                                                     7\n",
       "\\nYes                                                                                                                                   2\n",
       "Kelley passed federal criminal background checks; the US Air Force failed to provide information on his criminal history to the FBI     1\n",
       "Yes (\"some of the weapons were purchased legally and some of them may not have been\")                                                   1\n",
       "Yes                                                                                                                                     1\n",
       "Name: weapons_obtained_legally, dtype: int64"
      ]
     },
     "execution_count": 37,
     "metadata": {},
     "output_type": "execute_result"
    }
   ],
   "source": [
    "df['weapons_obtained_legally'].value_counts()"
   ]
  },
  {
   "cell_type": "code",
   "execution_count": 38,
   "id": "6759d65f",
   "metadata": {},
   "outputs": [
    {
     "data": {
      "text/plain": [
       "Yes        94\n",
       "Unknown    31\n",
       "No         16\n",
       "Name: weapons_obtained_legally, dtype: int64"
      ]
     },
     "execution_count": 38,
     "metadata": {},
     "output_type": "execute_result"
    }
   ],
   "source": [
    "df['weapons_obtained_legally'] = df['weapons_obtained_legally'].apply(lambda text: 'Yes' if 'yes' in text.lower() else 'Unknown' if text.lower() == 'tbd' else 'Unknown' if text.lower() == 'kelley passed federal criminal background checks; the us air force failed to provide information on his criminal history to the fbi' else text)\n",
    "df['weapons_obtained_legally'] = df['weapons_obtained_legally'].apply(text_correction)\n",
    "df['weapons_obtained_legally'].value_counts()"
   ]
  },
  {
   "cell_type": "markdown",
   "id": "650b1b10",
   "metadata": {},
   "source": [
    "Now our data should be clean enough to analyze and visualize. Let's move on."
   ]
  },
  {
   "cell_type": "markdown",
   "id": "f1556353",
   "metadata": {},
   "source": [
    "## 4. Analyze & Share\n",
    "\n",
    "Let's start finding answers to our questions about the data. Starting with the first question;"
   ]
  },
  {
   "cell_type": "markdown",
   "id": "2f7e428a",
   "metadata": {},
   "source": [
    "### Question 1: How has the rate of gun violence incidents behaved from 1982-2023?"
   ]
  },
  {
   "cell_type": "code",
   "execution_count": 39,
   "id": "0021f00b",
   "metadata": {},
   "outputs": [],
   "source": [
    "shootings_by_year = df.groupby('year').count()"
   ]
  },
  {
   "cell_type": "code",
   "execution_count": 40,
   "id": "089f51ac",
   "metadata": {},
   "outputs": [
    {
     "data": {
      "text/html": [
       "<div>\n",
       "<style scoped>\n",
       "    .dataframe tbody tr th:only-of-type {\n",
       "        vertical-align: middle;\n",
       "    }\n",
       "\n",
       "    .dataframe tbody tr th {\n",
       "        vertical-align: top;\n",
       "    }\n",
       "\n",
       "    .dataframe thead th {\n",
       "        text-align: right;\n",
       "    }\n",
       "</style>\n",
       "<table border=\"1\" class=\"dataframe\">\n",
       "  <thead>\n",
       "    <tr style=\"text-align: right;\">\n",
       "      <th></th>\n",
       "      <th>case</th>\n",
       "      <th>location_trimmed</th>\n",
       "      <th>state_trimmed</th>\n",
       "      <th>type</th>\n",
       "      <th>location_type</th>\n",
       "      <th>race</th>\n",
       "      <th>gender</th>\n",
       "      <th>date</th>\n",
       "      <th>fatalities</th>\n",
       "      <th>injured</th>\n",
       "      <th>total_victims</th>\n",
       "      <th>age_of_shooter</th>\n",
       "      <th>summary</th>\n",
       "      <th>prior_signs_mental_health_issues</th>\n",
       "      <th>weapons_obtained_legally</th>\n",
       "    </tr>\n",
       "    <tr>\n",
       "      <th>year</th>\n",
       "      <th></th>\n",
       "      <th></th>\n",
       "      <th></th>\n",
       "      <th></th>\n",
       "      <th></th>\n",
       "      <th></th>\n",
       "      <th></th>\n",
       "      <th></th>\n",
       "      <th></th>\n",
       "      <th></th>\n",
       "      <th></th>\n",
       "      <th></th>\n",
       "      <th></th>\n",
       "      <th></th>\n",
       "      <th></th>\n",
       "    </tr>\n",
       "  </thead>\n",
       "  <tbody>\n",
       "    <tr>\n",
       "      <th>1982</th>\n",
       "      <td>1</td>\n",
       "      <td>1</td>\n",
       "      <td>1</td>\n",
       "      <td>1</td>\n",
       "      <td>1</td>\n",
       "      <td>1</td>\n",
       "      <td>1</td>\n",
       "      <td>1</td>\n",
       "      <td>1</td>\n",
       "      <td>1</td>\n",
       "      <td>1</td>\n",
       "      <td>1</td>\n",
       "      <td>1</td>\n",
       "      <td>1</td>\n",
       "      <td>1</td>\n",
       "    </tr>\n",
       "    <tr>\n",
       "      <th>1984</th>\n",
       "      <td>2</td>\n",
       "      <td>2</td>\n",
       "      <td>2</td>\n",
       "      <td>2</td>\n",
       "      <td>2</td>\n",
       "      <td>2</td>\n",
       "      <td>2</td>\n",
       "      <td>2</td>\n",
       "      <td>2</td>\n",
       "      <td>2</td>\n",
       "      <td>2</td>\n",
       "      <td>2</td>\n",
       "      <td>2</td>\n",
       "      <td>2</td>\n",
       "      <td>2</td>\n",
       "    </tr>\n",
       "    <tr>\n",
       "      <th>1986</th>\n",
       "      <td>1</td>\n",
       "      <td>1</td>\n",
       "      <td>1</td>\n",
       "      <td>1</td>\n",
       "      <td>1</td>\n",
       "      <td>1</td>\n",
       "      <td>1</td>\n",
       "      <td>1</td>\n",
       "      <td>1</td>\n",
       "      <td>1</td>\n",
       "      <td>1</td>\n",
       "      <td>1</td>\n",
       "      <td>1</td>\n",
       "      <td>1</td>\n",
       "      <td>1</td>\n",
       "    </tr>\n",
       "    <tr>\n",
       "      <th>1987</th>\n",
       "      <td>1</td>\n",
       "      <td>1</td>\n",
       "      <td>1</td>\n",
       "      <td>1</td>\n",
       "      <td>1</td>\n",
       "      <td>1</td>\n",
       "      <td>1</td>\n",
       "      <td>1</td>\n",
       "      <td>1</td>\n",
       "      <td>1</td>\n",
       "      <td>1</td>\n",
       "      <td>1</td>\n",
       "      <td>1</td>\n",
       "      <td>1</td>\n",
       "      <td>1</td>\n",
       "    </tr>\n",
       "    <tr>\n",
       "      <th>1988</th>\n",
       "      <td>1</td>\n",
       "      <td>1</td>\n",
       "      <td>1</td>\n",
       "      <td>1</td>\n",
       "      <td>1</td>\n",
       "      <td>1</td>\n",
       "      <td>1</td>\n",
       "      <td>1</td>\n",
       "      <td>1</td>\n",
       "      <td>1</td>\n",
       "      <td>1</td>\n",
       "      <td>1</td>\n",
       "      <td>1</td>\n",
       "      <td>1</td>\n",
       "      <td>1</td>\n",
       "    </tr>\n",
       "  </tbody>\n",
       "</table>\n",
       "</div>"
      ],
      "text/plain": [
       "      case  location_trimmed  state_trimmed  type  location_type  race  \\\n",
       "year                                                                     \n",
       "1982     1                 1              1     1              1     1   \n",
       "1984     2                 2              2     2              2     2   \n",
       "1986     1                 1              1     1              1     1   \n",
       "1987     1                 1              1     1              1     1   \n",
       "1988     1                 1              1     1              1     1   \n",
       "\n",
       "      gender  date  fatalities  injured  total_victims  age_of_shooter  \\\n",
       "year                                                                     \n",
       "1982       1     1           1        1              1               1   \n",
       "1984       2     2           2        2              2               2   \n",
       "1986       1     1           1        1              1               1   \n",
       "1987       1     1           1        1              1               1   \n",
       "1988       1     1           1        1              1               1   \n",
       "\n",
       "      summary  prior_signs_mental_health_issues  weapons_obtained_legally  \n",
       "year                                                                       \n",
       "1982        1                                 1                         1  \n",
       "1984        2                                 2                         2  \n",
       "1986        1                                 1                         1  \n",
       "1987        1                                 1                         1  \n",
       "1988        1                                 1                         1  "
      ]
     },
     "execution_count": 40,
     "metadata": {},
     "output_type": "execute_result"
    }
   ],
   "source": [
    "shootings_by_year.head()"
   ]
  },
  {
   "cell_type": "code",
   "execution_count": 41,
   "id": "63357c35",
   "metadata": {},
   "outputs": [
    {
     "data": {
      "text/plain": [
       "Text(0, 0.5, 'Total Incidents')"
      ]
     },
     "execution_count": 41,
     "metadata": {},
     "output_type": "execute_result"
    },
    {
     "data": {
      "image/png": "[encoded data removed]",
      "text/plain": [
       "<Figure size 720x432 with 1 Axes>"
      ]
     },
     "metadata": {},
     "output_type": "display_data"
    }
   ],
   "source": [
    "plt.figure(figsize=(10,6))\n",
    "sns.lineplot(data=shootings_by_year,x=shootings_by_year.index,y='case',color='red')\n",
    "ax = plt.gca()\n",
    "ax.set_facecolor('black')\n",
    "plt.title(\"Gun Violence Incidents (1982-2023)\")\n",
    "plt.xlabel('Year')\n",
    "plt.ylabel('Total Incidents')"
   ]
  },
  {
   "cell_type": "markdown",
   "id": "89840231",
   "metadata": {},
   "source": [
    "From the plot above we can see that the rate of gun violence in the United States has been on the rise over the years, experiencing a dramatic increase in frequency after 2003-2004 and peaking in the years 2018 and 2022. It's also worthy of note that the frequency of gun violence incidents in the United States experienced a dramatic decline in the year 2020, when the Covid-19 Quarantine began.\n",
    "\n",
    "Let's take our analysis a step further by asking some additional questions."
   ]
  },
  {
   "cell_type": "markdown",
   "id": "94335d2f",
   "metadata": {},
   "source": [
    "#### Which year had the most gun violence incidents?"
   ]
  },
  {
   "cell_type": "code",
   "execution_count": 42,
   "id": "e8ebe6a6",
   "metadata": {},
   "outputs": [
    {
     "data": {
      "text/html": [
       "<div>\n",
       "<style scoped>\n",
       "    .dataframe tbody tr th:only-of-type {\n",
       "        vertical-align: middle;\n",
       "    }\n",
       "\n",
       "    .dataframe tbody tr th {\n",
       "        vertical-align: top;\n",
       "    }\n",
       "\n",
       "    .dataframe thead th {\n",
       "        text-align: right;\n",
       "    }\n",
       "</style>\n",
       "<table border=\"1\" class=\"dataframe\">\n",
       "  <thead>\n",
       "    <tr style=\"text-align: right;\">\n",
       "      <th></th>\n",
       "      <th>case</th>\n",
       "      <th>location_trimmed</th>\n",
       "      <th>state_trimmed</th>\n",
       "      <th>type</th>\n",
       "      <th>location_type</th>\n",
       "      <th>race</th>\n",
       "      <th>gender</th>\n",
       "      <th>date</th>\n",
       "      <th>fatalities</th>\n",
       "      <th>injured</th>\n",
       "      <th>total_victims</th>\n",
       "      <th>age_of_shooter</th>\n",
       "      <th>summary</th>\n",
       "      <th>prior_signs_mental_health_issues</th>\n",
       "      <th>weapons_obtained_legally</th>\n",
       "    </tr>\n",
       "    <tr>\n",
       "      <th>year</th>\n",
       "      <th></th>\n",
       "      <th></th>\n",
       "      <th></th>\n",
       "      <th></th>\n",
       "      <th></th>\n",
       "      <th></th>\n",
       "      <th></th>\n",
       "      <th></th>\n",
       "      <th></th>\n",
       "      <th></th>\n",
       "      <th></th>\n",
       "      <th></th>\n",
       "      <th></th>\n",
       "      <th></th>\n",
       "      <th></th>\n",
       "    </tr>\n",
       "  </thead>\n",
       "  <tbody>\n",
       "    <tr>\n",
       "      <th>2018</th>\n",
       "      <td>12</td>\n",
       "      <td>12</td>\n",
       "      <td>12</td>\n",
       "      <td>12</td>\n",
       "      <td>12</td>\n",
       "      <td>12</td>\n",
       "      <td>12</td>\n",
       "      <td>12</td>\n",
       "      <td>12</td>\n",
       "      <td>12</td>\n",
       "      <td>12</td>\n",
       "      <td>12</td>\n",
       "      <td>12</td>\n",
       "      <td>12</td>\n",
       "      <td>12</td>\n",
       "    </tr>\n",
       "    <tr>\n",
       "      <th>2022</th>\n",
       "      <td>12</td>\n",
       "      <td>12</td>\n",
       "      <td>12</td>\n",
       "      <td>12</td>\n",
       "      <td>12</td>\n",
       "      <td>12</td>\n",
       "      <td>12</td>\n",
       "      <td>12</td>\n",
       "      <td>12</td>\n",
       "      <td>12</td>\n",
       "      <td>12</td>\n",
       "      <td>12</td>\n",
       "      <td>12</td>\n",
       "      <td>12</td>\n",
       "      <td>12</td>\n",
       "    </tr>\n",
       "  </tbody>\n",
       "</table>\n",
       "</div>"
      ],
      "text/plain": [
       "      case  location_trimmed  state_trimmed  type  location_type  race  \\\n",
       "year                                                                     \n",
       "2018    12                12             12    12             12    12   \n",
       "2022    12                12             12    12             12    12   \n",
       "\n",
       "      gender  date  fatalities  injured  total_victims  age_of_shooter  \\\n",
       "year                                                                     \n",
       "2018      12    12          12       12             12              12   \n",
       "2022      12    12          12       12             12              12   \n",
       "\n",
       "      summary  prior_signs_mental_health_issues  weapons_obtained_legally  \n",
       "year                                                                       \n",
       "2018       12                                12                        12  \n",
       "2022       12                                12                        12  "
      ]
     },
     "execution_count": 42,
     "metadata": {},
     "output_type": "execute_result"
    }
   ],
   "source": [
    "shootings_by_year[shootings_by_year['case']==shootings_by_year['case'].max()]"
   ]
  },
  {
   "cell_type": "markdown",
   "id": "b28f2a22",
   "metadata": {},
   "source": [
    "From this, we can see that the years 2018 and 2022 are tied for the most gun violence incidents in a single year. Let's make a visualization for this:"
   ]
  },
  {
   "cell_type": "code",
   "execution_count": 43,
   "id": "4215e710",
   "metadata": {},
   "outputs": [
    {
     "data": {
      "text/plain": [
       "Text(103.75, 0.5, 'Incidents')"
      ]
     },
     "execution_count": 43,
     "metadata": {},
     "output_type": "execute_result"
    },
    {
     "data": {
      "image/png": "[encoded data removed]",
      "text/plain": [
       "<Figure size 1008x432 with 1 Axes>"
      ]
     },
     "metadata": {},
     "output_type": "display_data"
    }
   ],
   "source": [
    "plt.figure(figsize=(14,6))\n",
    "sns.barplot(data=shootings_by_year, x=shootings_by_year.index,y='case')\n",
    "ax = plt.gca()\n",
    "ax.set_facecolor('black')\n",
    "plt.tight_layout()\n",
    "plt.title(\"Gun Violence Incidents per Year\")\n",
    "plt.ylabel(\"Incidents\")"
   ]
  },
  {
   "cell_type": "markdown",
   "id": "ca8ead67",
   "metadata": {},
   "source": [
    "#### Which year had the most gun violence fatalities?"
   ]
  },
  {
   "cell_type": "code",
   "execution_count": 44,
   "id": "f7cef7b0",
   "metadata": {},
   "outputs": [],
   "source": [
    "totals_by_year = df.groupby('year').sum()"
   ]
  },
  {
   "cell_type": "code",
   "execution_count": 45,
   "id": "e0a7603e",
   "metadata": {},
   "outputs": [
    {
     "data": {
      "text/plain": [
       "year\n",
       "2017    117\n",
       "Name: fatalities, dtype: int64"
      ]
     },
     "execution_count": 45,
     "metadata": {},
     "output_type": "execute_result"
    }
   ],
   "source": [
    "totals_by_year[totals_by_year['fatalities']==totals_by_year['fatalities'].max()]['fatalities']"
   ]
  },
  {
   "cell_type": "code",
   "execution_count": 46,
   "id": "5bd12fa2",
   "metadata": {},
   "outputs": [
    {
     "data": {
      "text/plain": [
       "Text(0.5, 1.0, 'Gun Violence Fatalities per Year')"
      ]
     },
     "execution_count": 46,
     "metadata": {},
     "output_type": "execute_result"
    },
    {
     "data": {
      "image/png": "[encoded data removed]",
      "text/plain": [
       "<Figure size 1008x432 with 1 Axes>"
      ]
     },
     "metadata": {},
     "output_type": "display_data"
    }
   ],
   "source": [
    "plt.figure(figsize=(14,6))\n",
    "sns.barplot(data=totals_by_year, x=totals_by_year.index, y='fatalities')\n",
    "ax = plt.gca()\n",
    "ax.set_facecolor('black')\n",
    "plt.tight_layout()\n",
    "plt.title(\"Gun Violence Fatalities per Year\")"
   ]
  },
  {
   "cell_type": "code",
   "execution_count": 47,
   "id": "702aa22a",
   "metadata": {},
   "outputs": [
    {
     "data": {
      "text/html": [
       "<div>\n",
       "<style scoped>\n",
       "    .dataframe tbody tr th:only-of-type {\n",
       "        vertical-align: middle;\n",
       "    }\n",
       "\n",
       "    .dataframe tbody tr th {\n",
       "        vertical-align: top;\n",
       "    }\n",
       "\n",
       "    .dataframe thead th {\n",
       "        text-align: right;\n",
       "    }\n",
       "</style>\n",
       "<table border=\"1\" class=\"dataframe\">\n",
       "  <thead>\n",
       "    <tr style=\"text-align: right;\">\n",
       "      <th></th>\n",
       "      <th>case</th>\n",
       "      <th>location_trimmed</th>\n",
       "      <th>state_trimmed</th>\n",
       "      <th>type</th>\n",
       "      <th>location_type</th>\n",
       "      <th>race</th>\n",
       "      <th>gender</th>\n",
       "      <th>date</th>\n",
       "      <th>year</th>\n",
       "      <th>fatalities</th>\n",
       "      <th>injured</th>\n",
       "      <th>total_victims</th>\n",
       "      <th>age_of_shooter</th>\n",
       "      <th>summary</th>\n",
       "      <th>prior_signs_mental_health_issues</th>\n",
       "      <th>weapons_obtained_legally</th>\n",
       "    </tr>\n",
       "  </thead>\n",
       "  <tbody>\n",
       "    <tr>\n",
       "      <th>50</th>\n",
       "      <td>Las Vegas Strip massacre</td>\n",
       "      <td>Las Vegas</td>\n",
       "      <td>Nevada</td>\n",
       "      <td>Mass</td>\n",
       "      <td>Other</td>\n",
       "      <td>White</td>\n",
       "      <td>Male</td>\n",
       "      <td>2017-10-01 00:00:00</td>\n",
       "      <td>2017</td>\n",
       "      <td>58</td>\n",
       "      <td>546</td>\n",
       "      <td>604</td>\n",
       "      <td>64.0</td>\n",
       "      <td>Stephen Craig Paddock, 64, fired a barrage of ...</td>\n",
       "      <td>Unknown</td>\n",
       "      <td>Yes</td>\n",
       "    </tr>\n",
       "  </tbody>\n",
       "</table>\n",
       "</div>"
      ],
      "text/plain": [
       "                        case location_trimmed state_trimmed  type  \\\n",
       "50  Las Vegas Strip massacre        Las Vegas        Nevada  Mass   \n",
       "\n",
       "   location_type   race gender                 date  year  fatalities  \\\n",
       "50         Other  White   Male  2017-10-01 00:00:00  2017          58   \n",
       "\n",
       "    injured  total_victims  age_of_shooter  \\\n",
       "50      546            604            64.0   \n",
       "\n",
       "                                              summary  \\\n",
       "50  Stephen Craig Paddock, 64, fired a barrage of ...   \n",
       "\n",
       "   prior_signs_mental_health_issues weapons_obtained_legally  \n",
       "50                          Unknown                      Yes  "
      ]
     },
     "execution_count": 47,
     "metadata": {},
     "output_type": "execute_result"
    }
   ],
   "source": [
    "df[df['fatalities']==df['fatalities'].max()]"
   ]
  },
  {
   "cell_type": "code",
   "execution_count": 48,
   "id": "f4c626ea",
   "metadata": {},
   "outputs": [
    {
     "name": "stdout",
     "output_type": "stream",
     "text": [
      "Stephen Craig Paddock, 64, fired a barrage of rapid gunfire—using semiautomatic rifles modified with \"bump stocks\"—at thousands of concertgoers on the Las Vegas Strip late on a Sunday night; Paddock had positioned himself in a corner suite on the 32nd floor of the Mandalay Bay Resort and Casino, where he took aim from windows he'd smashed open. Police responding to the attack found Paddock inside the hotel suite, deceased from a self-inflicted gunshot.\n"
     ]
    }
   ],
   "source": [
    "print(df[df['year']==2017]['summary'][50])"
   ]
  },
  {
   "cell_type": "markdown",
   "id": "ee5b3beb",
   "metadata": {},
   "source": [
    "### Question 2: What’s the average amount of injured/fatalities/victims per incident?\n",
    "\n",
    "Before we can answer this question, we have to address one significant outlier that could skew the results of our analysis."
   ]
  },
  {
   "cell_type": "code",
   "execution_count": 49,
   "id": "d96b500a",
   "metadata": {},
   "outputs": [
    {
     "data": {
      "image/png": "[encoded data removed]",
      "text/plain": [
       "<Figure size 432x288 with 1 Axes>"
      ]
     },
     "metadata": {},
     "output_type": "display_data"
    }
   ],
   "source": [
    "plt.style.use('ggplot')\n",
    "sns.scatterplot(data=df, x='age_of_shooter',y='total_victims',color='red')\n",
    "ax = plt.gca()\n",
    "ax.set_facecolor('black')"
   ]
  },
  {
   "cell_type": "markdown",
   "id": "2be77977",
   "metadata": {},
   "source": [
    "The incident in question is the Las Vegas Strip massacre."
   ]
  },
  {
   "cell_type": "code",
   "execution_count": 50,
   "id": "7aa6ef97",
   "metadata": {},
   "outputs": [
    {
     "data": {
      "text/html": [
       "<div>\n",
       "<style scoped>\n",
       "    .dataframe tbody tr th:only-of-type {\n",
       "        vertical-align: middle;\n",
       "    }\n",
       "\n",
       "    .dataframe tbody tr th {\n",
       "        vertical-align: top;\n",
       "    }\n",
       "\n",
       "    .dataframe thead th {\n",
       "        text-align: right;\n",
       "    }\n",
       "</style>\n",
       "<table border=\"1\" class=\"dataframe\">\n",
       "  <thead>\n",
       "    <tr style=\"text-align: right;\">\n",
       "      <th></th>\n",
       "      <th>year</th>\n",
       "      <th>fatalities</th>\n",
       "      <th>injured</th>\n",
       "      <th>total_victims</th>\n",
       "    </tr>\n",
       "  </thead>\n",
       "  <tbody>\n",
       "    <tr>\n",
       "      <th>50</th>\n",
       "      <td>2017</td>\n",
       "      <td>58</td>\n",
       "      <td>546</td>\n",
       "      <td>604</td>\n",
       "    </tr>\n",
       "  </tbody>\n",
       "</table>\n",
       "</div>"
      ],
      "text/plain": [
       "    year  fatalities  injured  total_victims\n",
       "50  2017          58      546            604"
      ]
     },
     "execution_count": 50,
     "metadata": {},
     "output_type": "execute_result"
    }
   ],
   "source": [
    "df[df['fatalities']==df['fatalities'].max()][['year', 'fatalities', 'injured', 'total_victims']]"
   ]
  },
  {
   "cell_type": "code",
   "execution_count": 51,
   "id": "e2db77d7",
   "metadata": {},
   "outputs": [
    {
     "name": "stdout",
     "output_type": "stream",
     "text": [
      "Stephen Craig Paddock, 64, fired a barrage of rapid gunfire—using semiautomatic rifles modified with \"bump stocks\"—at thousands of concertgoers on the Las Vegas Strip late on a Sunday night; Paddock had positioned himself in a corner suite on the 32nd floor of the Mandalay Bay Resort and Casino, where he took aim from windows he'd smashed open. Police responding to the attack found Paddock inside the hotel suite, deceased from a self-inflicted gunshot.\n"
     ]
    }
   ],
   "source": [
    "print(df.loc[50]['summary'])"
   ]
  },
  {
   "cell_type": "markdown",
   "id": "73801860",
   "metadata": {},
   "source": [
    "Though this incident was tragic, it is also a significant outlier in our dataset that will hinder Python's ability to find an accurate average of the numerical features in our dataset. So before we can perform our calculations, we have to deal with it.\n",
    "\n",
    "That being said, I don't want to remove the incident from our project entirely, as it is still data that could be useful to our analysis--not to mention that this tragedy deserves to be included in our analysis. So I will create a copy of our dataframe that does not contain the outlier, and perform our calculations on that dataframe instead."
   ]
  },
  {
   "cell_type": "code",
   "execution_count": 52,
   "id": "cd3eee08",
   "metadata": {},
   "outputs": [],
   "source": [
    "#New dataframe without outlier\n",
    "df2 = df.copy()\n",
    "df2.drop(df.index[50],inplace=True)"
   ]
  },
  {
   "cell_type": "code",
   "execution_count": 53,
   "id": "82d96adf",
   "metadata": {},
   "outputs": [
    {
     "data": {
      "text/html": [
       "<div>\n",
       "<style scoped>\n",
       "    .dataframe tbody tr th:only-of-type {\n",
       "        vertical-align: middle;\n",
       "    }\n",
       "\n",
       "    .dataframe tbody tr th {\n",
       "        vertical-align: top;\n",
       "    }\n",
       "\n",
       "    .dataframe thead th {\n",
       "        text-align: right;\n",
       "    }\n",
       "</style>\n",
       "<table border=\"1\" class=\"dataframe\">\n",
       "  <thead>\n",
       "    <tr style=\"text-align: right;\">\n",
       "      <th></th>\n",
       "      <th>year</th>\n",
       "      <th>fatalities</th>\n",
       "      <th>injured</th>\n",
       "      <th>total_victims</th>\n",
       "      <th>age_of_shooter</th>\n",
       "    </tr>\n",
       "  </thead>\n",
       "  <tbody>\n",
       "    <tr>\n",
       "      <th>count</th>\n",
       "      <td>140.000000</td>\n",
       "      <td>140.000000</td>\n",
       "      <td>140.000000</td>\n",
       "      <td>140.000000</td>\n",
       "      <td>140.000000</td>\n",
       "    </tr>\n",
       "    <tr>\n",
       "      <th>mean</th>\n",
       "      <td>2010.335714</td>\n",
       "      <td>7.450000</td>\n",
       "      <td>7.414286</td>\n",
       "      <td>14.828571</td>\n",
       "      <td>33.939286</td>\n",
       "    </tr>\n",
       "    <tr>\n",
       "      <th>std</th>\n",
       "      <td>10.820717</td>\n",
       "      <td>6.151943</td>\n",
       "      <td>10.614220</td>\n",
       "      <td>14.747731</td>\n",
       "      <td>12.983868</td>\n",
       "    </tr>\n",
       "    <tr>\n",
       "      <th>min</th>\n",
       "      <td>1982.000000</td>\n",
       "      <td>3.000000</td>\n",
       "      <td>0.000000</td>\n",
       "      <td>3.000000</td>\n",
       "      <td>11.000000</td>\n",
       "    </tr>\n",
       "    <tr>\n",
       "      <th>25%</th>\n",
       "      <td>2004.750000</td>\n",
       "      <td>4.000000</td>\n",
       "      <td>1.000000</td>\n",
       "      <td>6.000000</td>\n",
       "      <td>22.750000</td>\n",
       "    </tr>\n",
       "    <tr>\n",
       "      <th>50%</th>\n",
       "      <td>2014.000000</td>\n",
       "      <td>6.000000</td>\n",
       "      <td>3.000000</td>\n",
       "      <td>10.000000</td>\n",
       "      <td>32.500000</td>\n",
       "    </tr>\n",
       "    <tr>\n",
       "      <th>75%</th>\n",
       "      <td>2018.000000</td>\n",
       "      <td>8.000000</td>\n",
       "      <td>10.000000</td>\n",
       "      <td>17.000000</td>\n",
       "      <td>43.000000</td>\n",
       "    </tr>\n",
       "    <tr>\n",
       "      <th>max</th>\n",
       "      <td>2023.000000</td>\n",
       "      <td>49.000000</td>\n",
       "      <td>70.000000</td>\n",
       "      <td>102.000000</td>\n",
       "      <td>72.000000</td>\n",
       "    </tr>\n",
       "  </tbody>\n",
       "</table>\n",
       "</div>"
      ],
      "text/plain": [
       "              year  fatalities     injured  total_victims  age_of_shooter\n",
       "count   140.000000  140.000000  140.000000     140.000000      140.000000\n",
       "mean   2010.335714    7.450000    7.414286      14.828571       33.939286\n",
       "std      10.820717    6.151943   10.614220      14.747731       12.983868\n",
       "min    1982.000000    3.000000    0.000000       3.000000       11.000000\n",
       "25%    2004.750000    4.000000    1.000000       6.000000       22.750000\n",
       "50%    2014.000000    6.000000    3.000000      10.000000       32.500000\n",
       "75%    2018.000000    8.000000   10.000000      17.000000       43.000000\n",
       "max    2023.000000   49.000000   70.000000     102.000000       72.000000"
      ]
     },
     "execution_count": 53,
     "metadata": {},
     "output_type": "execute_result"
    }
   ],
   "source": [
    "df2.describe()"
   ]
  },
  {
   "cell_type": "markdown",
   "id": "94ed2722",
   "metadata": {},
   "source": [
    "Now let's find our averages."
   ]
  },
  {
   "cell_type": "code",
   "execution_count": 54,
   "id": "0f263244",
   "metadata": {},
   "outputs": [
    {
     "data": {
      "text/plain": [
       "7.414285714285715"
      ]
     },
     "execution_count": 54,
     "metadata": {},
     "output_type": "execute_result"
    }
   ],
   "source": [
    "#Average injuries\n",
    "df2['injured'].mean()"
   ]
  },
  {
   "cell_type": "code",
   "execution_count": 55,
   "id": "aa218912",
   "metadata": {},
   "outputs": [
    {
     "data": {
      "text/plain": [
       "7.45"
      ]
     },
     "execution_count": 55,
     "metadata": {},
     "output_type": "execute_result"
    }
   ],
   "source": [
    "#Average fatalities\n",
    "df2['fatalities'].mean()"
   ]
  },
  {
   "cell_type": "code",
   "execution_count": 56,
   "id": "b2f7522b",
   "metadata": {},
   "outputs": [
    {
     "data": {
      "text/plain": [
       "14.82857142857143"
      ]
     },
     "execution_count": 56,
     "metadata": {},
     "output_type": "execute_result"
    }
   ],
   "source": [
    "#Average total victims\n",
    "df2['total_victims'].mean()"
   ]
  },
  {
   "cell_type": "markdown",
   "id": "4a9e1feb",
   "metadata": {},
   "source": [
    "Now let's move onto our next question.\n",
    "\n",
    "### Question 3: Are there any correlations you can find between different metrics in the dataset?\n",
    "\n",
    "Before we can answer this question, there are some features of our dataset that we have to turn into numerical values so that we can check their correlation to the other features in our dataset."
   ]
  },
  {
   "cell_type": "code",
   "execution_count": 57,
   "id": "94c94139",
   "metadata": {},
   "outputs": [],
   "source": [
    "#Creating numerized versions of columns, to check for correlation\n",
    "\n",
    "#type numerization\n",
    "mapping = {'Mass': 0, 'Spree': 1}\n",
    "df2['type_numerized'] = df2['type'].replace(mapping)\n",
    "\n",
    "#location_type numerization\n",
    "mapping_two = {'Other': 0, 'Workplace': 1, 'School': 2, 'Religious': 3, 'Military': 4, 'Airport': 5}\n",
    "df2['location_type_numerized'] = df2['location_type'].replace(mapping_two)\n",
    "\n",
    "#weapons_obtained_legally numerization\n",
    "mapping_three = {'Yes': 0, 'Unknown': 1, 'No': 2}\n",
    "df2['weapons_numerized'] = df2['weapons_obtained_legally'].replace(mapping_three)\n",
    "\n",
    "#Mental health numerization\n",
    "df2['mental_health_numerized'] = df2['prior_signs_mental_health_issues'].replace(mapping_three)"
   ]
  },
  {
   "cell_type": "markdown",
   "id": "64ee90b1",
   "metadata": {},
   "source": [
    "Now that our features have been numerized, we can plot them on a corrmap to visualize their correlation."
   ]
  },
  {
   "cell_type": "code",
   "execution_count": 58,
   "id": "e2235d86",
   "metadata": {},
   "outputs": [
    {
     "data": {
      "text/plain": [
       "<AxesSubplot:>"
      ]
     },
     "execution_count": 58,
     "metadata": {},
     "output_type": "execute_result"
    },
    {
     "data": {
      "image/png": "[encoded data removed]",
      "text/plain": [
       "<Figure size 864x576 with 2 Axes>"
      ]
     },
     "metadata": {},
     "output_type": "display_data"
    }
   ],
   "source": [
    "plt.figure(figsize=(12,8))\n",
    "sns.heatmap(df2.corr(),annot=True)"
   ]
  },
  {
   "cell_type": "markdown",
   "id": "547efb00",
   "metadata": {},
   "source": [
    "The figure above shows us that the only significant correlations between different metrics in our dataset (aside from identical metrics, which obviously don't count) are positive correlations between:\n",
    "\n",
    "1. **Total victims and injured** (0.93 Correlation)\n",
    "2. **Total victims and fatalities** (0.78 correlation)\n",
    "3. **Injured and fatalities** (0.51 Correlation)\n",
    "\n",
    "Beyond these, there are no significant correlations or patterns between any metrics in our dataset.\n",
    "\n",
    "Now let's move onto our next question."
   ]
  },
  {
   "cell_type": "markdown",
   "id": "1e070eff",
   "metadata": {},
   "source": [
    "### Question 4: What are the most common race/gender identities of shooters?"
   ]
  },
  {
   "cell_type": "code",
   "execution_count": 59,
   "id": "095cf262",
   "metadata": {},
   "outputs": [
    {
     "data": {
      "image/png": "[encoded data removed]",
      "text/plain": [
       "<Figure size 720x432 with 1 Axes>"
      ]
     },
     "metadata": {},
     "output_type": "display_data"
    }
   ],
   "source": [
    "#Race distribution of shooters\n",
    "display_order = df['race'].value_counts().index.tolist()\n",
    "plt.figure(figsize=(10,6))\n",
    "sns.countplot(data=df, x='race', order=display_order)\n",
    "ax = plt.gca()\n",
    "ax.set_facecolor('black')\n",
    "plt.xticks(rotation=50)\n",
    "plt.tight_layout()"
   ]
  },
  {
   "cell_type": "markdown",
   "id": "8a98cb47",
   "metadata": {},
   "source": [
    "The above visualization tells us that the most common racial identity for shooters is 'White,' making up a vast majority of our dataset. The second most common racial identity for shooters is Black, and the third most common racial identity is 'Unclear,' meaning that their racial identity could not be determined.\n",
    "\n",
    "Let's check the gender distribution of shooters, next."
   ]
  },
  {
   "cell_type": "code",
   "execution_count": 60,
   "id": "9a898ee2",
   "metadata": {},
   "outputs": [
    {
     "data": {
      "image/png": "[encoded data removed]",
      "text/plain": [
       "<Figure size 720x432 with 1 Axes>"
      ]
     },
     "metadata": {},
     "output_type": "display_data"
    }
   ],
   "source": [
    "#Gender distribution of shooters\n",
    "plt.figure(figsize=(10,6))\n",
    "display_order_two = df['gender'].value_counts().index.tolist()\n",
    "sns.countplot(data=df, x='gender', order=display_order_two)\n",
    "ax = plt.gca()\n",
    "ax.set_facecolor('black')\n",
    "plt.xticks(rotation=50)\n",
    "plt.tight_layout()"
   ]
  },
  {
   "cell_type": "markdown",
   "id": "719d3de8",
   "metadata": {},
   "source": [
    "The vast majority of shooters identify as male, with a small minority identifying as female. (It should be noted that the 'Male & Female' marks on the visualization simply represent incidents in which both male and female shooters were involved.)\n",
    "\n",
    "Let's take our analysis a step further by visualizing the most common locations for Mass/Spree shootings to occur at."
   ]
  },
  {
   "cell_type": "code",
   "execution_count": 61,
   "id": "8d0cc2b0",
   "metadata": {},
   "outputs": [
    {
     "data": {
      "image/png": "[encoded data removed]",
      "text/plain": [
       "<Figure size 720x432 with 1 Axes>"
      ]
     },
     "metadata": {},
     "output_type": "display_data"
    }
   ],
   "source": [
    "#Most common locations per shooting type\n",
    "display_order_three = df['location_type'].value_counts().index.tolist()\n",
    "plt.figure(figsize=(10,6))\n",
    "sns.countplot(data=df,x='location_type',hue='type',order=display_order_three)\n",
    "ax = plt.gca()\n",
    "ax.set_facecolor('black')\n",
    "plt.title(\"Most common locations per Shooting Type\")\n",
    "plt.xticks(rotation=50)\n",
    "plt.tight_layout()"
   ]
  },
  {
   "cell_type": "markdown",
   "id": "11427c2a",
   "metadata": {},
   "source": [
    "From this we can see that:\n",
    "\n",
    "1. The vast majority of all gun violence incidents were classified as 'Mass' shootings.\n",
    "2. The most common locations for shootings of both types were 'Workplace,' 'School,' other miscellaneous locations. Shootings in these locations make up the majority of the data in our dataset.\n",
    "3. Shootings at religious and military sites are significantly less common than other types of shootings. Additionally, there is only one instance of an Airport shooting from 1982-2023.\n",
    "\n",
    "Let's take our analysis even further by asking another question; \n",
    "\n",
    "#### How many shooters obtained their weapons legally? Additionally; how many of these shooters showed signs of mental distress prior to obtaining their weapons?"
   ]
  },
  {
   "cell_type": "code",
   "execution_count": 62,
   "id": "2251a31a",
   "metadata": {},
   "outputs": [
    {
     "data": {
      "text/plain": [
       "Text(0.5, 0, 'Weapons Obtained Legally')"
      ]
     },
     "execution_count": 62,
     "metadata": {},
     "output_type": "execute_result"
    },
    {
     "data": {
      "image/png": "[encoded data removed]",
      "text/plain": [
       "<Figure size 720x432 with 1 Axes>"
      ]
     },
     "metadata": {},
     "output_type": "display_data"
    }
   ],
   "source": [
    "plt.figure(figsize=(10,6))\n",
    "sns.countplot(data=df, x='weapons_obtained_legally', hue='prior_signs_mental_health_issues')\n",
    "ax = plt.gca()\n",
    "ax.set_facecolor('black')\n",
    "plt.title(\"Weapons Ownership Status by Mental Health\")\n",
    "plt.xlabel(\"Weapons Obtained Legally\")"
   ]
  },
  {
   "cell_type": "markdown",
   "id": "2896e4b7",
   "metadata": {},
   "source": [
    "The visualization above shows us that the majority of shooters did obtain their weapons legally. More than that, it also shows us that most shooters--including those who obtained their weapons legally--either showed signs of prior mental distress, or had anonymous histories with mental health.\n",
    "\n",
    "Now let's move onto our last question."
   ]
  },
  {
   "cell_type": "markdown",
   "id": "ba1afe6f",
   "metadata": {},
   "source": [
    "### Question 5: Which states had the most gun violence incidents?\n",
    "\n",
    "Before we can answer this question, there is a minor error in the 'state_trimmed' column that we need to correct. Louisiana was accidentally mispelled."
   ]
  },
  {
   "cell_type": "code",
   "execution_count": 63,
   "id": "34416826",
   "metadata": {},
   "outputs": [],
   "source": [
    "df['state_trimmed'] = df['state_trimmed'].apply(lambda state: 'Louisiana' if state == 'Lousiana' else state)"
   ]
  },
  {
   "cell_type": "markdown",
   "id": "7fc20b08",
   "metadata": {},
   "source": [
    "With that out of the way, we can focus on creating our plot. First, we'll need to add a new column to our dataframe that contains the abbreviations of every state. We do this because we are going to be plotting our data in a choropleth map, which uses state abbreviations to assign values to states on the map."
   ]
  },
  {
   "cell_type": "code",
   "execution_count": 64,
   "id": "39279bd2",
   "metadata": {},
   "outputs": [],
   "source": [
    "#Creating a dictionary of abbreviations\n",
    "state_mapping = {\n",
    "    'California': 'CA',\n",
    "    'New York': 'NY',\n",
    "    'New Jersey': 'NJ',\n",
    "    'Michigan': 'MI',\n",
    "    'Massachusetts': 'MA',\n",
    "    'Ohio': 'OH',\n",
    "    'Texas': 'TX',\n",
    "    'Washington': 'WA',\n",
    "    'Arizona': 'AZ',\n",
    "    'Maryland': 'MD',\n",
    "    'Illinois': 'IL',\n",
    "    'Florida': 'FL',\n",
    "    'Virginia': 'VA',\n",
    "    'Minnesota': 'MN',\n",
    "    'Oregon': 'OR',\n",
    "    'Colorado': 'CO',\n",
    "    'Tennessee': 'TN',\n",
    "    'Pennsylvania': 'PA',\n",
    "    'Connecticut': 'CT',\n",
    "    'Missouri': 'MO',\n",
    "    'Kentucky': 'KY',\n",
    "    'North Carolina': 'NC',\n",
    "    'Indiana': 'IN',\n",
    "    'South Carolina': 'SC',\n",
    "    'Nevada': 'NV',\n",
    "    'Kansas': 'KS',\n",
    "    'Wisconsin': 'WI',\n",
    "    'Utah': 'UT',\n",
    "    'Oklahoma': 'OK',\n",
    "    'D.C.': 'DC',\n",
    "    'Maine': 'ME',\n",
    "    'Idaho': 'ID',\n",
    "    'Arkansas': 'AR',\n",
    "    'Nebraska': 'NE',\n",
    "    'Georgia': 'GA',\n",
    "    'Delaware': 'DE',\n",
    "    'West Virginia': 'WV',\n",
    "    'Iowa': 'IA',\n",
    "    'Rhode Island': 'RI',\n",
    "    'New Hampshire': 'NH',\n",
    "    'Montana': 'MT',\n",
    "    'South Dakota': 'SD',\n",
    "    'New Mexico': 'NM',\n",
    "    'Louisiana': 'LA',\n",
    "    'Vermont': 'VT',\n",
    "    'North Dakota': 'ND',\n",
    "    'Alaska': 'AK',\n",
    "    'Alabama': 'AL',\n",
    "    'Wyoming': 'WY',\n",
    "    'Mississippi': 'MS',\n",
    "    'Hawaii': 'HI'\n",
    "}\n",
    "#Creating our new column\n",
    "df['state_abbrev'] = df['state_trimmed'].replace(state_mapping)"
   ]
  },
  {
   "cell_type": "code",
   "execution_count": 65,
   "id": "b4e24611",
   "metadata": {},
   "outputs": [
    {
     "data": {
      "text/plain": [
       "CA    25\n",
       "TX    12\n",
       "FL    12\n",
       "CO     8\n",
       "WA     7\n",
       "PA     5\n",
       "WI     5\n",
       "IL     5\n",
       "NY     5\n",
       "VA     4\n",
       "MI     4\n",
       "MD     4\n",
       "OH     4\n",
       "CT     3\n",
       "TN     3\n",
       "GA     3\n",
       "NC     3\n",
       "MO     2\n",
       "OK     2\n",
       "NV     2\n",
       "IN     2\n",
       "OR     2\n",
       "SC     2\n",
       "MN     2\n",
       "KY     2\n",
       "NE     1\n",
       "AR     1\n",
       "HI     1\n",
       "MA     1\n",
       "MS     1\n",
       "UT     1\n",
       "DC     1\n",
       "AZ     1\n",
       "NJ     1\n",
       "KS     1\n",
       "LA     1\n",
       "AL     1\n",
       "IA     1\n",
       "Name: state_abbrev, dtype: int64"
      ]
     },
     "execution_count": 65,
     "metadata": {},
     "output_type": "execute_result"
    }
   ],
   "source": [
    "#Checking to see if everything went smoothly\n",
    "df['state_abbrev'].value_counts().head(100)"
   ]
  },
  {
   "cell_type": "markdown",
   "id": "cd0385fc",
   "metadata": {},
   "source": [
    "Already we can see that California, Texas, and Florida have the most gun violence incidents out of all the states. Let's plot this out so we can better understand it. First, we'll create a new dataframe that counts all the incidents per state."
   ]
  },
  {
   "cell_type": "code",
   "execution_count": 66,
   "id": "14b206ea",
   "metadata": {},
   "outputs": [
    {
     "data": {
      "text/html": [
       "<div>\n",
       "<style scoped>\n",
       "    .dataframe tbody tr th:only-of-type {\n",
       "        vertical-align: middle;\n",
       "    }\n",
       "\n",
       "    .dataframe tbody tr th {\n",
       "        vertical-align: top;\n",
       "    }\n",
       "\n",
       "    .dataframe thead th {\n",
       "        text-align: right;\n",
       "    }\n",
       "</style>\n",
       "<table border=\"1\" class=\"dataframe\">\n",
       "  <thead>\n",
       "    <tr style=\"text-align: right;\">\n",
       "      <th></th>\n",
       "      <th>case</th>\n",
       "      <th>location_trimmed</th>\n",
       "      <th>state_trimmed</th>\n",
       "      <th>type</th>\n",
       "      <th>location_type</th>\n",
       "      <th>race</th>\n",
       "      <th>gender</th>\n",
       "      <th>date</th>\n",
       "      <th>year</th>\n",
       "      <th>fatalities</th>\n",
       "      <th>injured</th>\n",
       "      <th>total_victims</th>\n",
       "      <th>age_of_shooter</th>\n",
       "      <th>summary</th>\n",
       "      <th>prior_signs_mental_health_issues</th>\n",
       "      <th>weapons_obtained_legally</th>\n",
       "    </tr>\n",
       "    <tr>\n",
       "      <th>state_abbrev</th>\n",
       "      <th></th>\n",
       "      <th></th>\n",
       "      <th></th>\n",
       "      <th></th>\n",
       "      <th></th>\n",
       "      <th></th>\n",
       "      <th></th>\n",
       "      <th></th>\n",
       "      <th></th>\n",
       "      <th></th>\n",
       "      <th></th>\n",
       "      <th></th>\n",
       "      <th></th>\n",
       "      <th></th>\n",
       "      <th></th>\n",
       "      <th></th>\n",
       "    </tr>\n",
       "  </thead>\n",
       "  <tbody>\n",
       "    <tr>\n",
       "      <th>AL</th>\n",
       "      <td>1</td>\n",
       "      <td>1</td>\n",
       "      <td>1</td>\n",
       "      <td>1</td>\n",
       "      <td>1</td>\n",
       "      <td>1</td>\n",
       "      <td>1</td>\n",
       "      <td>1</td>\n",
       "      <td>1</td>\n",
       "      <td>1</td>\n",
       "      <td>1</td>\n",
       "      <td>1</td>\n",
       "      <td>1</td>\n",
       "      <td>1</td>\n",
       "      <td>1</td>\n",
       "      <td>1</td>\n",
       "    </tr>\n",
       "    <tr>\n",
       "      <th>AR</th>\n",
       "      <td>1</td>\n",
       "      <td>1</td>\n",
       "      <td>1</td>\n",
       "      <td>1</td>\n",
       "      <td>1</td>\n",
       "      <td>1</td>\n",
       "      <td>1</td>\n",
       "      <td>1</td>\n",
       "      <td>1</td>\n",
       "      <td>1</td>\n",
       "      <td>1</td>\n",
       "      <td>1</td>\n",
       "      <td>1</td>\n",
       "      <td>1</td>\n",
       "      <td>1</td>\n",
       "      <td>1</td>\n",
       "    </tr>\n",
       "    <tr>\n",
       "      <th>AZ</th>\n",
       "      <td>1</td>\n",
       "      <td>1</td>\n",
       "      <td>1</td>\n",
       "      <td>1</td>\n",
       "      <td>1</td>\n",
       "      <td>1</td>\n",
       "      <td>1</td>\n",
       "      <td>1</td>\n",
       "      <td>1</td>\n",
       "      <td>1</td>\n",
       "      <td>1</td>\n",
       "      <td>1</td>\n",
       "      <td>1</td>\n",
       "      <td>1</td>\n",
       "      <td>1</td>\n",
       "      <td>1</td>\n",
       "    </tr>\n",
       "    <tr>\n",
       "      <th>CA</th>\n",
       "      <td>25</td>\n",
       "      <td>25</td>\n",
       "      <td>25</td>\n",
       "      <td>25</td>\n",
       "      <td>25</td>\n",
       "      <td>25</td>\n",
       "      <td>25</td>\n",
       "      <td>25</td>\n",
       "      <td>25</td>\n",
       "      <td>25</td>\n",
       "      <td>25</td>\n",
       "      <td>25</td>\n",
       "      <td>25</td>\n",
       "      <td>25</td>\n",
       "      <td>25</td>\n",
       "      <td>25</td>\n",
       "    </tr>\n",
       "    <tr>\n",
       "      <th>CO</th>\n",
       "      <td>8</td>\n",
       "      <td>8</td>\n",
       "      <td>8</td>\n",
       "      <td>8</td>\n",
       "      <td>8</td>\n",
       "      <td>8</td>\n",
       "      <td>8</td>\n",
       "      <td>8</td>\n",
       "      <td>8</td>\n",
       "      <td>8</td>\n",
       "      <td>8</td>\n",
       "      <td>8</td>\n",
       "      <td>8</td>\n",
       "      <td>8</td>\n",
       "      <td>8</td>\n",
       "      <td>8</td>\n",
       "    </tr>\n",
       "  </tbody>\n",
       "</table>\n",
       "</div>"
      ],
      "text/plain": [
       "              case  location_trimmed  state_trimmed  type  location_type  \\\n",
       "state_abbrev                                                               \n",
       "AL               1                 1              1     1              1   \n",
       "AR               1                 1              1     1              1   \n",
       "AZ               1                 1              1     1              1   \n",
       "CA              25                25             25    25             25   \n",
       "CO               8                 8              8     8              8   \n",
       "\n",
       "              race  gender  date  year  fatalities  injured  total_victims  \\\n",
       "state_abbrev                                                                 \n",
       "AL               1       1     1     1           1        1              1   \n",
       "AR               1       1     1     1           1        1              1   \n",
       "AZ               1       1     1     1           1        1              1   \n",
       "CA              25      25    25    25          25       25             25   \n",
       "CO               8       8     8     8           8        8              8   \n",
       "\n",
       "              age_of_shooter  summary  prior_signs_mental_health_issues  \\\n",
       "state_abbrev                                                              \n",
       "AL                         1        1                                 1   \n",
       "AR                         1        1                                 1   \n",
       "AZ                         1        1                                 1   \n",
       "CA                        25       25                                25   \n",
       "CO                         8        8                                 8   \n",
       "\n",
       "              weapons_obtained_legally  \n",
       "state_abbrev                            \n",
       "AL                                   1  \n",
       "AR                                   1  \n",
       "AZ                                   1  \n",
       "CA                                  25  \n",
       "CO                                   8  "
      ]
     },
     "execution_count": 66,
     "metadata": {},
     "output_type": "execute_result"
    }
   ],
   "source": [
    "shootings_by_state = df.copy()\n",
    "shootings_by_state = shootings_by_state.groupby('state_abbrev').count()\n",
    "shootings_by_state.head()"
   ]
  },
  {
   "cell_type": "markdown",
   "id": "2867e2dd",
   "metadata": {},
   "source": [
    "Now we make our map."
   ]
  },
  {
   "cell_type": "code",
   "execution_count": 70,
   "id": "8d9db5c2",
   "metadata": {},
   "outputs": [
    {
     "data": {
      "text/plain": [
       "'choropleth_map.html'"
      ]
     },
     "execution_count": 70,
     "metadata": {},
     "output_type": "execute_result"
    }
   ],
   "source": [
    "import plotly.graph_objects as go\n",
    "import plotly.io as pio\n",
    "\n",
    "# Defining our map\n",
    "data = dict(\n",
    "    type='choropleth',\n",
    "    colorscale='Viridis',\n",
    "    locations=shootings_by_state.index,\n",
    "    locationmode='USA-states',\n",
    "    z=shootings_by_state['case'],\n",
    "    text='Total Shootings',\n",
    "    colorbar={'title': 'Total Shootings'}\n",
    ")\n",
    "\n",
    "# Defining the layout\n",
    "layout = dict(\n",
    "    title='US Gun Violence Incidents per State (1982-2023)',\n",
    "    geo=dict(scope='usa', showlakes=True, lakecolor='rgb(85,173,240)')\n",
    ")\n",
    "\n",
    "choromap3 = go.Figure(data=[data], layout=layout)\n",
    "\n",
    "# Save the visualization as an HTML file\n",
    "pio.write_html(choromap3, 'choropleth_map.html')\n",
    "\n",
    "import plotly.offline as pyo\n",
    "\n",
    "# Save the choropleth map as an HTML file\n",
    "pyo.plot(choromap3, filename='choropleth_map.html')"
   ]
  },
  {
   "cell_type": "markdown",
   "id": "b66090e1",
   "metadata": {},
   "source": [
    "You can also see a tableau visualization I made of the map in the html file here: https://public.tableau.com/app/profile/aaron.russell7589/viz/USShootingsbyState/USShootingsbyState?publish=yes"
   ]
  },
  {
   "cell_type": "markdown",
   "id": "86bbb1c8",
   "metadata": {},
   "source": [
    "The plot above shows that the states with the most Gun Violence incidents are:\n",
    "\n",
    "1. **California** (25 Incidents)\n",
    "2. **Texas** (12 Incidents)\n",
    "3. **Florida** (12 Incidents)\n",
    "4. **Colorado** (8 Incidents)\n",
    "5. **Washington** (7 Incidents)"
   ]
  },
  {
   "cell_type": "markdown",
   "id": "a84f5422",
   "metadata": {},
   "source": [
    "# Conclusion\n",
    "\n",
    "The results of our analysis highlight the severity of gun violence in the United States, and shows how gun violence has affected us in the past decades and continues to affect us in more recent years. The rate of shootings in the United States has only increased over time, and peaked in years as recent as 2018 and 2022, both of which were tied for the most gun violence incidents in the past several decades. \n",
    "\n",
    "In 2017--merely six years ago as of the time of this analysis--we lost a heartbreaking total of 117 lives to gun violence; the highest amount of gun violence fatalities in the past four decades, and a solemn reminder that shootings continue to claim lives and disrupt communities. \n",
    "\n",
    "Gun violence is a particularly prevalent issue in the states of California, Texas, and Florida, which stand out with the most gun violence incidents in all of the United States. The impact that gun violence has on these states cannot be ignored, and any efforts to address gun violence in the US should take into account the unique challenges faced by these states.\n",
    "\n",
    "**Gun violence is not a minor issue. It is not a thing of the past. It cannot be ignored.** Gun ownership in the United States is higher than any other country in the world, but the current policies for gun ownership are too lax to prevent those who shouldn't have guns from acquiring them. The majority of shooters in the United States obtained their weapons legally, despite the fact that many of them showed prior signs of mental distress/instability. This indicates that stricter regulations on firearm sale/ownership, and more thorough background checks on those who want to purchase firearms, are necessary.\n",
    "\n",
    "I hope you enjoyed reading through this notebook, and found the insights I discovered interesting in some way. Thank you for your time."
   ]
  }
 ],
 "metadata": {
  "kernelspec": {
   "display_name": "Python 3 (ipykernel)",
   "language": "python",
   "name": "python3"
  },
  "language_info": {
   "codemirror_mode": {
    "name": "ipython",
    "version": 3
   },
   "file_extension": ".py",
   "mimetype": "text/x-python",
   "name": "python",
   "nbconvert_exporter": "python",
   "pygments_lexer": "ipython3",
   "version": "3.9.7"
  }
 },
 "nbformat": 4,
 "nbformat_minor": 5
}
